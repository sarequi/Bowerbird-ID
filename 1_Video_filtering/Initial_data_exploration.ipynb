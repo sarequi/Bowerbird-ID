{
 "cells": [
  {
   "cell_type": "markdown",
   "metadata": {},
   "source": [
    "### Number of identified birds"
   ]
  },
  {
   "cell_type": "code",
   "execution_count": 9,
   "metadata": {},
   "outputs": [
    {
     "name": "stdout",
     "output_type": "stream",
     "text": [
      "Number of ID'd birds: 16\n"
     ]
    }
   ],
   "source": [
    "import os\n",
    "import pandas as pd\n",
    "\n",
    "excel_filename = \"2018.xlsx\"  # enter your scoring file name <--\n",
    "excel_path = os.path.join(\"../Data/Yearly_scoring_file/\", excel_filename) # builds relative path\n",
    "excel_file = pd.ExcelFile(excel_path)\n",
    "sheet_names = excel_file.sheet_names\n",
    "bird_sheets = [sheet_name for sheet_name in sheet_names if sheet_name.lower() != 'legend'] # filters out the \"legend\" sheet\n",
    "\n",
    "print(f\"Number of ID'd birds: {len(bird_sheets)}\")"
   ]
  },
  {
   "cell_type": "markdown",
   "metadata": {},
   "source": [
    "### Number of valid videos per bird"
   ]
  },
  {
   "cell_type": "code",
   "execution_count": 11,
   "metadata": {},
   "outputs": [
    {
     "name": "stdout",
     "output_type": "stream",
     "text": [
      "Bird B02, Valid videos: 3341\n",
      "Bird B03, Valid videos: 1750\n",
      "Bird B04, Valid videos: 4333\n",
      "Bird B05, Valid videos: 7779\n",
      "Bird B07, Valid videos: 3407\n",
      "Bird B11, Valid videos: 5606\n",
      "Bird B18, Valid videos: 1581\n",
      "Bird B23, Valid videos: 3291\n",
      "Bird B26, Valid videos: 1635\n",
      "Bird B29, Valid videos: 4476\n",
      "Bird B30, Valid videos: 3033\n",
      "Bird B31, Valid videos: 3940\n",
      "Bird B47, Valid videos: 3124\n",
      "Bird B49, Valid videos: 1826\n",
      "Bird B50, Valid videos: 4079\n",
      "Bird B52, Valid videos: 1601\n"
     ]
    }
   ],
   "source": [
    "valid_counts = {}\n",
    "\n",
    "for bird in bird_sheets:\n",
    "    # Read in only columns whose names contain Owner, Others, or Copulation\n",
    "    df = pd.read_excel(excel_file, sheet_name=bird,usecols=lambda col: (\"Owner\" in col) or (\"Others\" in col) or (\"Copulation\" in col))\n",
    "    \n",
    "    df.columns = df.columns.str.strip() # Strip leading/trailing spaces from the loaded column names\n",
    "    \n",
    "    valid_count = df[\n",
    "        (df[\"Owner\"].isin([1,2,3,4])) &\n",
    "        (df[\"Others\"] == 0) &\n",
    "        (df[\"Copulation\"] != 1)\n",
    "    ].shape[0]\n",
    "    \n",
    "    valid_counts[bird] = valid_count\n",
    "\n",
    "for bird, count in valid_counts.items():\n",
    "    print(f'Bird {bird}, Valid videos: {count}')"
   ]
  }
 ],
 "metadata": {
  "kernelspec": {
   "display_name": "bower_env",
   "language": "python",
   "name": "python3"
  },
  "language_info": {
   "codemirror_mode": {
    "name": "ipython",
    "version": 3
   },
   "file_extension": ".py",
   "mimetype": "text/x-python",
   "name": "python",
   "nbconvert_exporter": "python",
   "pygments_lexer": "ipython3",
   "version": "3.8.18"
  }
 },
 "nbformat": 4,
 "nbformat_minor": 2
}
