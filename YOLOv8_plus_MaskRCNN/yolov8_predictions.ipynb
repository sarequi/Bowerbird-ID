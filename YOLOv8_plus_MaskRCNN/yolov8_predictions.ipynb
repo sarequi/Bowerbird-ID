{
 "cells": [
  {
   "cell_type": "markdown",
   "metadata": {},
   "source": [
    "This script processes images to detect birds, crop them out, and generate segmentation masks of the detected birds.\n",
    "\n",
    "* Load images from the input directory\n",
    "* Use YOLO to detect objects in the images\n",
    "* Crop the detected objects\n",
    "* Use Mask R-CNN to generate segmentation masks for the cropped images\n",
    "* Overlay the masks on the original images\n"
   ]
  },
  {
   "cell_type": "code",
   "execution_count": 5,
   "metadata": {},
   "outputs": [],
   "source": [
    "import os\n",
    "import cv2\n",
    "import numpy as np\n",
    "from tqdm import tqdm\n",
    "from detectron2.config import get_cfg\n",
    "from detectron2.engine import DefaultPredictor\n",
    "from detectron2 import model_zoo\n",
    "import matplotlib.pyplot as plt\n",
    "from ultralytics import YOLO"
   ]
  },
  {
   "cell_type": "markdown",
   "metadata": {},
   "source": [
    "Functional: Using YOLO for OD and Mask-RCNN for mask segmentation"
   ]
  },
  {
   "cell_type": "code",
   "execution_count": 6,
   "metadata": {},
   "outputs": [
    {
     "name": "stdout",
     "output_type": "stream",
     "text": [
      "Cropping imgs with YOLO\n"
     ]
    },
    {
     "name": "stderr",
     "output_type": "stream",
     "text": [
      "100%|██████████| 10/10 [00:35<00:00,  3.58s/it]\n"
     ]
    },
    {
     "name": "stdout",
     "output_type": "stream",
     "text": [
      "Segmentating cropped imgs with MaskRCNN\n"
     ]
    },
    {
     "name": "stderr",
     "output_type": "stream",
     "text": [
      "  0%|          | 0/11 [00:00<?, ?it/s]/Users/sarah/miniconda3/envs/yolo_env/lib/python3.8/site-packages/torch/functional.py:504: UserWarning: torch.meshgrid: in an upcoming release, it will be required to pass the indexing argument. (Triggered internally at /Users/runner/work/pytorch/pytorch/pytorch/aten/src/ATen/native/TensorShape.cpp:3484.)\n",
      "  return _VF.meshgrid(tensors, **kwargs)  # type: ignore[attr-defined]\n",
      "100%|██████████| 11/11 [01:29<00:00,  8.14s/it]\n"
     ]
    }
   ],
   "source": [
    "input_dir = \"../Mask_RCNN/input_frames\"\n",
    "cropped_dir = \"output_cropped\"\n",
    "mask_dir = \"output_mask\"\n",
    "os.makedirs(cropped_dir, exist_ok=True)\n",
    "os.makedirs(mask_dir, exist_ok=True)\n",
    "\n",
    "# YOLO setup\n",
    "yolo_model = YOLO('yolov8x.pt')  # 'yolov8x.pt' for higher accuracy, 'yolov8n.pt' for lower accuracy\n",
    "print(\"Cropping imgs with YOLO\")\n",
    "for image_name in tqdm(os.listdir(input_dir)):\n",
    "    image_path = os.path.join(input_dir, image_name)\n",
    "    results = yolo_model.predict(image_path, conf=0.3, verbose=False)\n",
    "\n",
    "    img = results[0].orig_img  \n",
    "    for i, box in enumerate(results[0].boxes.xyxy):  # Iterate through bounding boxes\n",
    "        x1, y1, x2, y2 = map(int, box)\n",
    "        cropped = img[y1:y2, x1:x2]\n",
    "        cropped_filename = f\"{os.path.splitext(image_name)[0]}_{i}.png\"\n",
    "        cv2.imwrite(os.path.join(cropped_dir, cropped_filename), cropped)\n",
    "\n",
    "# Mask RCNN setup\n",
    "cfg = get_cfg()\n",
    "cfg.merge_from_file(model_zoo.get_config_file(\"COCO-InstanceSegmentation/mask_rcnn_R_50_FPN_3x.yaml\"))\n",
    "cfg.MODEL.ROI_HEADS.SCORE_THRESH_TEST = 0.3  # Confidence threshold\n",
    "cfg.MODEL.WEIGHTS = model_zoo.get_checkpoint_url(\"COCO-InstanceSegmentation/mask_rcnn_R_50_FPN_3x.yaml\")\n",
    "cfg.MODEL.DEVICE = \"cpu\"  # Run on CPU\n",
    "predictor = DefaultPredictor(cfg)\n",
    "\n",
    "print(\"Segmentating cropped imgs with MaskRCNN\")\n",
    "for cropped_name in tqdm(os.listdir(cropped_dir)):\n",
    "    if not cropped_name.lower().endswith(('.png')): # take only png files\n",
    "        continue\n",
    "\n",
    "    cropped_path = os.path.join(cropped_dir, cropped_name)\n",
    "    cropped_img = cv2.imread(cropped_path)\n",
    "\n",
    "    outputs = predictor(cropped_img)\n",
    "    masks = outputs['instances'].pred_masks.cpu().numpy()\n",
    "\n",
    "    # Create and save the mask-applied images\n",
    "    for i, mask in enumerate(masks):\n",
    "        mask_rgb = np.zeros_like(cropped_img) # black background \n",
    "        mask_rgb[mask] = cropped_img[mask] # object in RGB\n",
    "        mask_filename = f\"{os.path.splitext(cropped_name)[0]}_mask_{i}.png\"\n",
    "        cv2.imwrite(os.path.join(mask_dir, mask_filename), mask_rgb)\n"
   ]
  }
 ],
 "metadata": {
  "kernelspec": {
   "display_name": "yolo_env",
   "language": "python",
   "name": "python3"
  },
  "language_info": {
   "codemirror_mode": {
    "name": "ipython",
    "version": 3
   },
   "file_extension": ".py",
   "mimetype": "text/x-python",
   "name": "python",
   "nbconvert_exporter": "python",
   "pygments_lexer": "ipython3",
   "version": "3.8.20"
  }
 },
 "nbformat": 4,
 "nbformat_minor": 2
}
