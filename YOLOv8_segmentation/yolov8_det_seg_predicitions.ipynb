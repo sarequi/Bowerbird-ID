{
 "cells": [
  {
   "cell_type": "markdown",
   "metadata": {},
   "source": [
    "This script processes images to detect birds, crop them out, and generate segmentation masks of the detected birds, all through YOLOv8"
   ]
  },
  {
   "cell_type": "code",
   "execution_count": 1,
   "metadata": {},
   "outputs": [],
   "source": [
    "import os\n",
    "import cv2\n",
    "import numpy as np\n",
    "from tqdm import tqdm\n",
    "from detectron2.config import get_cfg\n",
    "from detectron2.engine import DefaultPredictor\n",
    "from detectron2 import model_zoo\n",
    "import matplotlib.pyplot as plt\n",
    "from ultralytics import YOLO"
   ]
  },
  {
   "cell_type": "code",
   "execution_count": 2,
   "metadata": {},
   "outputs": [
    {
     "name": "stdout",
     "output_type": "stream",
     "text": [
      "Downloading https://github.com/ultralytics/assets/releases/download/v8.3.0/yolov8x-seg.pt to 'yolov8x-seg.pt'...\n"
     ]
    },
    {
     "name": "stderr",
     "output_type": "stream",
     "text": [
      "100%|██████████| 137M/137M [00:04<00:00, 32.0MB/s] \n"
     ]
    },
    {
     "name": "stdout",
     "output_type": "stream",
     "text": [
      "Cropping images\n"
     ]
    },
    {
     "name": "stderr",
     "output_type": "stream",
     "text": [
      "  0%|          | 0/10 [00:00<?, ?it/s][W NNPACK.cpp:64] Could not initialize NNPACK! Reason: Unsupported hardware.\n",
      "100%|██████████| 10/10 [00:45<00:00,  4.50s/it]\n"
     ]
    },
    {
     "name": "stdout",
     "output_type": "stream",
     "text": [
      "Segmenting cropped images with YOLOv8 segmentation\n"
     ]
    },
    {
     "name": "stderr",
     "output_type": "stream",
     "text": [
      "  8%|▊         | 1/12 [00:06<01:16,  6.98s/it]"
     ]
    },
    {
     "name": "stdout",
     "output_type": "stream",
     "text": [
      "Resizing mask from (512, 640) to (350, 466)\n"
     ]
    },
    {
     "name": "stderr",
     "output_type": "stream",
     "text": [
      " 42%|████▏     | 5/12 [00:24<00:29,  4.15s/it]"
     ]
    },
    {
     "name": "stdout",
     "output_type": "stream",
     "text": [
      "Resizing mask from (352, 640) to (341, 662)\n"
     ]
    },
    {
     "name": "stderr",
     "output_type": "stream",
     "text": [
      " 50%|█████     | 6/12 [00:29<00:25,  4.29s/it]"
     ]
    },
    {
     "name": "stdout",
     "output_type": "stream",
     "text": [
      "Resizing mask from (640, 352) to (407, 215)\n"
     ]
    },
    {
     "name": "stderr",
     "output_type": "stream",
     "text": [
      " 58%|█████▊    | 7/12 [00:37<00:28,  5.62s/it]"
     ]
    },
    {
     "name": "stdout",
     "output_type": "stream",
     "text": [
      "Resizing mask from (640, 640) to (602, 619)\n"
     ]
    },
    {
     "name": "stderr",
     "output_type": "stream",
     "text": [
      " 67%|██████▋   | 8/12 [00:46<00:25,  6.43s/it]"
     ]
    },
    {
     "name": "stdout",
     "output_type": "stream",
     "text": [
      "Resizing mask from (640, 640) to (408, 410)\n"
     ]
    },
    {
     "name": "stderr",
     "output_type": "stream",
     "text": [
      " 75%|███████▌  | 9/12 [00:52<00:19,  6.44s/it]"
     ]
    },
    {
     "name": "stdout",
     "output_type": "stream",
     "text": [
      "Resizing mask from (512, 640) to (418, 543)\n"
     ]
    },
    {
     "name": "stderr",
     "output_type": "stream",
     "text": [
      " 83%|████████▎ | 10/12 [01:00<00:13,  6.69s/it]"
     ]
    },
    {
     "name": "stdout",
     "output_type": "stream",
     "text": [
      "Resizing mask from (640, 576) to (413, 372)\n"
     ]
    },
    {
     "name": "stderr",
     "output_type": "stream",
     "text": [
      " 92%|█████████▏| 11/12 [01:05<00:06,  6.28s/it]"
     ]
    },
    {
     "name": "stdout",
     "output_type": "stream",
     "text": [
      "Resizing mask from (640, 416) to (501, 316)\n"
     ]
    },
    {
     "name": "stderr",
     "output_type": "stream",
     "text": [
      "100%|██████████| 12/12 [01:09<00:00,  5.75s/it]"
     ]
    },
    {
     "name": "stdout",
     "output_type": "stream",
     "text": [
      "Resizing mask from (640, 288) to (787, 335)\n"
     ]
    },
    {
     "name": "stderr",
     "output_type": "stream",
     "text": [
      "\n"
     ]
    }
   ],
   "source": [
    "input_dir = \"../Mask_RCNN/input_frames\"\n",
    "cropped_dir = \"output_cropped\"\n",
    "mask_dir = \"output_mask\"\n",
    "os.makedirs(cropped_dir, exist_ok=True)\n",
    "os.makedirs(mask_dir, exist_ok=True)\n",
    "\n",
    "# YOLO setup (using the segme model instead of det)\n",
    "yolo_model = YOLO('yolov8x-seg.pt') \n",
    "\n",
    "print(\"Cropping images\")\n",
    "for image_name in tqdm(os.listdir(input_dir)):\n",
    "    image_path = os.path.join(input_dir, image_name)\n",
    "    results = yolo_model.predict(image_path, conf=0.3, verbose=False)\n",
    "\n",
    "    img = results[0].orig_img\n",
    "    for i, box in enumerate(results[0].boxes.xyxy):  # Iterate through bounding boxes\n",
    "        x1, y1, x2, y2 = map(int, box)\n",
    "        cropped = img[y1:y2, x1:x2]\n",
    "        cropped_filename = f\"{os.path.splitext(image_name)[0]}_{i}.png\"\n",
    "        cv2.imwrite(os.path.join(cropped_dir, cropped_filename), cropped)\n",
    "\n",
    "print(\"Segmenting cropped images with YOLOv8 segmentation\")\n",
    "for cropped_name in tqdm(os.listdir(cropped_dir)):\n",
    "    if not cropped_name.lower().endswith('.png'): \n",
    "        continue\n",
    "\n",
    "    cropped_path = os.path.join(cropped_dir, cropped_name)\n",
    "    cropped_img = cv2.imread(cropped_path)\n",
    "\n",
    "    results = yolo_model.predict(cropped_img, conf=0.3, verbose=False)\n",
    "\n",
    "    # Check if any masks are detected\n",
    "    if results[0].masks is None:\n",
    "        continue  # No masks detected\n",
    "\n",
    "    # Access mask data correctly\n",
    "    masks = results[0].masks.data  \n",
    "\n",
    "    # Create and save the masked images\n",
    "    for i, mask in enumerate(masks):\n",
    "        mask = mask.cpu().numpy().astype(bool) # Ensure mask is on CPU and convert to NumPy bool array\n",
    "\n",
    "        # Check if mask dimensions match the cropped image dimensions\n",
    "        if mask.shape != cropped_img.shape[:2]:\n",
    "            print(f\"Resizing mask from {mask.shape} to {cropped_img.shape[:2]}\")\n",
    "            mask_resized = cv2.resize(mask.astype(np.uint8), \n",
    "                                      (cropped_img.shape[1], cropped_img.shape[0]), \n",
    "                                      interpolation=cv2.INTER_NEAREST)\n",
    "            mask_resized = mask_resized.astype(bool)\n",
    "        else:\n",
    "            mask_resized = mask\n",
    "\n",
    "        # Verify the shapes after resizing\n",
    "        assert mask_resized.shape == cropped_img.shape[:2], \\\n",
    "            f\"Mask shape {mask_resized.shape} does not match image shape {cropped_img.shape[:2]}\"\n",
    "\n",
    "        # Create a mask with the same number of channels as the image\n",
    "        mask_rgb = np.zeros_like(cropped_img)  # Black background\n",
    "        mask_rgb[mask_resized] = cropped_img[mask_resized] # Apply mask to the image\n",
    "\n",
    "        mask_filename = f\"{os.path.splitext(cropped_name)[0]}_mask_{i}.png\"\n",
    "        cv2.imwrite(os.path.join(mask_dir, mask_filename), mask_rgb)"
   ]
  }
 ],
 "metadata": {
  "kernelspec": {
   "display_name": "yolo_env",
   "language": "python",
   "name": "python3"
  },
  "language_info": {
   "codemirror_mode": {
    "name": "ipython",
    "version": 3
   },
   "file_extension": ".py",
   "mimetype": "text/x-python",
   "name": "python",
   "nbconvert_exporter": "python",
   "pygments_lexer": "ipython3",
   "version": "3.8.20"
  }
 },
 "nbformat": 4,
 "nbformat_minor": 2
}
