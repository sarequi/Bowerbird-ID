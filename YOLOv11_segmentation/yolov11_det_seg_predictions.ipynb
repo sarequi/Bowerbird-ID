{
 "cells": [
  {
   "cell_type": "markdown",
   "metadata": {},
   "source": [
    "This script processes images to detect birds, crop them out, and generate segmentation masks of the detected birds, all through YOLOv8"
   ]
  },
  {
   "cell_type": "code",
   "execution_count": 1,
   "metadata": {},
   "outputs": [],
   "source": [
    "import os\n",
    "import cv2\n",
    "import numpy as np\n",
    "from tqdm import tqdm\n",
    "from detectron2.config import get_cfg\n",
    "from detectron2.engine import DefaultPredictor\n",
    "from detectron2 import model_zoo\n",
    "import matplotlib.pyplot as plt\n",
    "from ultralytics import YOLO"
   ]
  },
  {
   "cell_type": "code",
   "execution_count": 5,
   "metadata": {},
   "outputs": [
    {
     "name": "stdout",
     "output_type": "stream",
     "text": [
      "Cropping images\n"
     ]
    },
    {
     "name": "stderr",
     "output_type": "stream",
     "text": [
      "100%|██████████| 10/10 [00:40<00:00,  4.02s/it]\n"
     ]
    },
    {
     "name": "stdout",
     "output_type": "stream",
     "text": [
      "Segmenting cropped images with YOLOv11 segmentation\n"
     ]
    },
    {
     "name": "stderr",
     "output_type": "stream",
     "text": [
      " 11%|█         | 1/9 [00:05<00:44,  5.57s/it]"
     ]
    },
    {
     "name": "stdout",
     "output_type": "stream",
     "text": [
      "Resizing mask from (480, 640) to (343, 463)\n"
     ]
    },
    {
     "name": "stderr",
     "output_type": "stream",
     "text": [
      " 33%|███▎      | 3/9 [00:14<00:27,  4.66s/it]"
     ]
    },
    {
     "name": "stdout",
     "output_type": "stream",
     "text": [
      "Resizing mask from (256, 640) to (238, 602)\n"
     ]
    },
    {
     "name": "stderr",
     "output_type": "stream",
     "text": [
      " 56%|█████▌    | 5/9 [00:26<00:22,  5.62s/it]"
     ]
    },
    {
     "name": "stdout",
     "output_type": "stream",
     "text": [
      "Resizing mask from (640, 640) to (583, 603)\n"
     ]
    },
    {
     "name": "stderr",
     "output_type": "stream",
     "text": [
      " 67%|██████▋   | 6/9 [00:34<00:18,  6.25s/it]"
     ]
    },
    {
     "name": "stdout",
     "output_type": "stream",
     "text": [
      "Resizing mask from (640, 640) to (420, 418)\n"
     ]
    },
    {
     "name": "stderr",
     "output_type": "stream",
     "text": [
      " 89%|████████▉ | 8/9 [00:45<00:05,  5.90s/it]"
     ]
    },
    {
     "name": "stdout",
     "output_type": "stream",
     "text": [
      "Resizing mask from (640, 448) to (473, 320)\n"
     ]
    },
    {
     "name": "stderr",
     "output_type": "stream",
     "text": [
      "100%|██████████| 9/9 [00:48<00:00,  5.44s/it]"
     ]
    },
    {
     "name": "stdout",
     "output_type": "stream",
     "text": [
      "Resizing mask from (640, 288) to (776, 336)\n"
     ]
    },
    {
     "name": "stderr",
     "output_type": "stream",
     "text": [
      "\n"
     ]
    }
   ],
   "source": [
    "input_dir = \"../Mask_RCNN/input_frames\"\n",
    "\n",
    "yolo_version = 'x' # can be 's', 'm', 'l', 'x' x is quite slower \n",
    "yolo_model = YOLO(f'yolo11{yolo_version}-seg.pt')  \n",
    "cropped_dir = f\"output_cropped_{yolo_version}\"\n",
    "mask_dir = f\"output_mask_{yolo_version}\"\n",
    "os.makedirs(cropped_dir, exist_ok=True)\n",
    "os.makedirs(mask_dir, exist_ok=True)\n",
    "\n",
    "print(\"Cropping images\")\n",
    "for image_name in tqdm(os.listdir(input_dir)):\n",
    "    image_path = os.path.join(input_dir, image_name)\n",
    "    # Perform prediction on the full image\n",
    "    results = yolo_model.predict(image_path, conf=0.3, verbose=False)\n",
    "\n",
    "    # Retrieve the original image\n",
    "    img = results[0].orig_img\n",
    "    for i, box in enumerate(results[0].boxes.xyxy):  # Iterate through bounding boxes\n",
    "        # Extract bounding box coordinates\n",
    "        x1, y1, x2, y2 = map(int, box)\n",
    "        cropped = img[y1:y2, x1:x2]  # Crop the region of interest\n",
    "        cropped_filename = f\"{os.path.splitext(image_name)[0]}_{i}.png\"\n",
    "        # Save the cropped image\n",
    "        cv2.imwrite(os.path.join(cropped_dir, cropped_filename), cropped)\n",
    "\n",
    "print(\"Segmenting cropped images with YOLOv11 segmentation\")\n",
    "for cropped_name in tqdm(os.listdir(cropped_dir)):\n",
    "    if not cropped_name.lower().endswith('.png'): \n",
    "        continue\n",
    "\n",
    "    cropped_path = os.path.join(cropped_dir, cropped_name)\n",
    "    cropped_img = cv2.imread(cropped_path)\n",
    "\n",
    "    # Perform prediction on the cropped image\n",
    "    results = yolo_model.predict(cropped_img, conf=0.3, verbose=False)\n",
    "\n",
    "    # Check if any masks are detected\n",
    "    if results[0].masks is None:\n",
    "        continue  # Skip if no masks are found\n",
    "\n",
    "    # Access mask data\n",
    "    masks = results[0].masks.data  \n",
    "\n",
    "    # Create and save masked images\n",
    "    for i, mask in enumerate(masks):\n",
    "        mask = mask.cpu().numpy().astype(bool)  # Convert mask to NumPy boolean array\n",
    "\n",
    "        # Ensure mask dimensions match the cropped image dimensions\n",
    "        if mask.shape != cropped_img.shape[:2]:\n",
    "            print(f\"Resizing mask from {mask.shape} to {cropped_img.shape[:2]}\")\n",
    "            mask_resized = cv2.resize(mask.astype(np.uint8), \n",
    "                                      (cropped_img.shape[1], cropped_img.shape[0]), \n",
    "                                      interpolation=cv2.INTER_NEAREST)\n",
    "            mask_resized = mask_resized.astype(bool)\n",
    "        else:\n",
    "            mask_resized = mask\n",
    "\n",
    "        # Verify the resized mask dimensions\n",
    "        assert mask_resized.shape == cropped_img.shape[:2], \\\n",
    "            f\"Mask shape {mask_resized.shape} does not match image shape {cropped_img.shape[:2]}\"\n",
    "\n",
    "        # Create a mask with the same number of channels as the cropped image\n",
    "        mask_rgb = np.zeros_like(cropped_img)  # Black background\n",
    "        mask_rgb[mask_resized] = cropped_img[mask_resized]  # Apply the mask to the image\n",
    "\n",
    "        # Save the masked image\n",
    "        mask_filename = f\"{os.path.splitext(cropped_name)[0]}_mask_{i}.png\"\n",
    "        cv2.imwrite(os.path.join(mask_dir, mask_filename), mask_rgb)\n"
   ]
  }
 ],
 "metadata": {
  "kernelspec": {
   "display_name": "yolo_env",
   "language": "python",
   "name": "python3"
  },
  "language_info": {
   "codemirror_mode": {
    "name": "ipython",
    "version": 3
   },
   "file_extension": ".py",
   "mimetype": "text/x-python",
   "name": "python",
   "nbconvert_exporter": "python",
   "pygments_lexer": "ipython3",
   "version": "3.8.20"
  }
 },
 "nbformat": 4,
 "nbformat_minor": 2
}
