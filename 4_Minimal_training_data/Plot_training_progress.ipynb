{
 "cells": [
  {
   "cell_type": "code",
   "execution_count": null,
   "metadata": {},
   "outputs": [],
   "source": [
    "import pandas as pd\n",
    "import matplotlib.pyplot as plt\n",
    "import os\n",
    "\n",
    "output_base_dir = \"/gpfs/data/fs72607/juarezs98/subsets_finetune/Outputs_finetune/\"\n",
    "results_csv_path = os.path.join(output_base_dir, \"training_results.csv\")\n",
    "\n",
    "# Load training results\n",
    "df = pd.read_csv(results_csv_path, index_col=0)\n",
    "\n",
    "# Convert stored string values into lists\n",
    "df[\"val_losses\"] = df[\"val_losses\"].apply(lambda x: eval(x))\n",
    "df[\"val_accuracies\"] = df[\"val_accuracies\"].apply(lambda x: eval(x))\n",
    "\n",
    "df.head() "
   ]
  },
  {
   "cell_type": "code",
   "execution_count": null,
   "metadata": {},
   "outputs": [],
   "source": [
    "plt.figure(figsize=(12, 6))\n",
    "\n",
    "for subset, row in df.iterrows():\n",
    "    epochs = range(1, len(row['val_losses']) + 1)\n",
    "    plt.plot(epochs, row['val_losses'], label=f\"Loss - {subset} images\", linestyle='dashed')\n",
    "    plt.plot(epochs, row['val_accuracies'], label=f\"Acc - {subset} images\")\n",
    "\n",
    "plt.xlabel(\"Epochs\", fontsize=14)\n",
    "plt.ylabel(\"Metric\", fontsize=14)\n",
    "plt.title(\"Validation Loss & Accuracy Across Subset Sizes\", fontsize=16)\n",
    "plt.legend(fontsize=12)\n",
    "plt.grid(True)\n",
    "\n",
    "plt.show()"
   ]
  }
 ],
 "metadata": {
  "kernelspec": {
   "display_name": "bower_env",
   "language": "python",
   "name": "python3"
  },
  "language_info": {
   "name": "python",
   "version": "3.8.18"
  }
 },
 "nbformat": 4,
 "nbformat_minor": 2
}
