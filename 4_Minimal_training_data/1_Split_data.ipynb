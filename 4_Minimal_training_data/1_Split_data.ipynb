{
 "cells": [
  {
   "cell_type": "code",
   "execution_count": null,
   "id": "73a3e696-1c56-41a5-a24d-1f87c0afee95",
   "metadata": {},
   "outputs": [
    {
     "name": "stderr",
     "output_type": "stream",
     "text": [
      "Processing subsets: 100%|██████████| 5/5 [02:28<00:00, 29.78s/it]"
     ]
    },
    {
     "name": "stdout",
     "output_type": "stream",
     "text": [
      "Done!\n"
     ]
    },
    {
     "name": "stderr",
     "output_type": "stream",
     "text": [
      "\n"
     ]
    }
   ],
   "source": [
    "import os\n",
    "import shutil\n",
    "import random\n",
    "from tqdm import tqdm\n",
    "from sklearn.model_selection import train_test_split\n",
    "\n",
    "random_seed = 42\n",
    "num_images_per_bird = [50, 100, 150, 200, 250, 300, 350, 400, 450]  # instances to extract per bird\n",
    "base_directory = \"/gpfs/data/fs72607/juarezs98/masked_frames/\"\n",
    "output_root = \"/gpfs/data/fs72607/juarezs98/subsets_finetune/\"\n",
    "\n",
    "random.seed(random_seed)\n",
    "\n",
    "os.makedirs(output_root, exist_ok=True)\n",
    "\n",
    "for num_images in tqdm(num_images_per_bird, desc=\"Processing subsets\"):\n",
    "    subset_directory = os.path.join(output_root, str(num_images))\n",
    "    os.makedirs(subset_directory, exist_ok=True)\n",
    "\n",
    "    # Within each subset, create train, val, and test folders\n",
    "    train_dir = os.path.join(subset_directory, \"train\")\n",
    "    val_dir   = os.path.join(subset_directory, \"val\")\n",
    "    test_dir  = os.path.join(subset_directory, \"test\")\n",
    "    os.makedirs(train_dir, exist_ok=True)\n",
    "    os.makedirs(val_dir, exist_ok=True)\n",
    "    os.makedirs(test_dir, exist_ok=True)\n",
    "\n",
    "    for bird_id in os.listdir(base_directory):\n",
    "        bird_directory = os.path.join(base_directory, bird_id)\n",
    "        if not os.path.isdir(bird_directory):\n",
    "            continue\n",
    "\n",
    "        # Gather and shuffle all images for each bird\n",
    "        image_files = [f for f in os.listdir(bird_directory) \n",
    "                       if f.lower().endswith(('.jpg', '.png'))]\n",
    "        if len(image_files) == 0:\n",
    "            continue\n",
    "        random.shuffle(image_files)\n",
    "\n",
    "        # Select the first `num_images` files\n",
    "        selected_images = image_files[:num_images]\n",
    "\n",
    "        # For a 70-20-10% split:\n",
    "        # First split 70% train, 30% remainder\n",
    "        train_files, remainder = train_test_split(\n",
    "            selected_images, \n",
    "            test_size=0.3, \n",
    "            random_state=random_seed\n",
    "        )\n",
    "        # Then split the remainder ~50/50 to get 20% val, 10% test overall\n",
    "        val_files, test_files = train_test_split(\n",
    "            remainder, \n",
    "            test_size=0.3333,  # 1/3 of 30% -> ~10% of total\n",
    "            random_state=random_seed\n",
    "        )\n",
    "\n",
    "        # Create bird-specific directories within train, val, and test\n",
    "        train_bird_dir = os.path.join(train_dir, bird_id)\n",
    "        val_bird_dir   = os.path.join(val_dir, bird_id)\n",
    "        test_bird_dir  = os.path.join(test_dir, bird_id)\n",
    "\n",
    "        os.makedirs(train_bird_dir, exist_ok=True)\n",
    "        os.makedirs(val_bird_dir, exist_ok=True)\n",
    "        os.makedirs(test_bird_dir, exist_ok=True)\n",
    "\n",
    "        def copy_images(file_list, src_dir, dst_dir):\n",
    "            for img_name in file_list:\n",
    "                src_path = os.path.join(src_dir, img_name)\n",
    "                dst_path = os.path.join(dst_dir, img_name)\n",
    "                shutil.copy2(src_path, dst_path)\n",
    "\n",
    "        # Copy training, validation and test images\n",
    "        copy_images(train_files, bird_directory, train_bird_dir)\n",
    "        copy_images(val_files, bird_directory, val_bird_dir)\n",
    "        copy_images(test_files, bird_directory, test_bird_dir)\n",
    "\n",
    "print(\"Done!\")"
   ]
  }
 ],
 "metadata": {
  "kernelspec": {
   "display_name": "Python (sarah_env)",
   "language": "python",
   "name": "sarah_env"
  },
  "language_info": {
   "codemirror_mode": {
    "name": "ipython",
    "version": 3
   },
   "file_extension": ".py",
   "mimetype": "text/x-python",
   "name": "python",
   "nbconvert_exporter": "python",
   "pygments_lexer": "ipython3",
   "version": "3.10.15"
  }
 },
 "nbformat": 4,
 "nbformat_minor": 5
}
