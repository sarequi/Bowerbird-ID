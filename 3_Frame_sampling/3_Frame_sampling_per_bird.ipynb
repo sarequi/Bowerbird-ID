{
 "cells": [
  {
   "cell_type": "markdown",
   "metadata": {},
   "source": [
    "Metadata also includes the tiemstamp each frame was extracted from"
   ]
  },
  {
   "cell_type": "code",
   "execution_count": null,
   "metadata": {},
   "outputs": [
    {
     "name": "stderr",
     "output_type": "stream",
     "text": [
      "Processing bird folders:   0%|          | 0/16 [00:00<?, ?it/s]"
     ]
    },
    {
     "name": "stdout",
     "output_type": "stream",
     "text": [
      "\n",
      "Processing bird: B02\n"
     ]
    },
    {
     "name": "stderr",
     "output_type": "stream",
     "text": [
      "Processing bird folders:   6%|▋         | 1/16 [22:56<5:44:08, 1376.55s/it]"
     ]
    },
    {
     "name": "stdout",
     "output_type": "stream",
     "text": [
      "\n",
      "Processing bird: B03\n"
     ]
    },
    {
     "name": "stderr",
     "output_type": "stream",
     "text": [
      "Processing bird folders:  12%|█▎        | 2/16 [49:42<5:52:44, 1511.77s/it]"
     ]
    },
    {
     "name": "stdout",
     "output_type": "stream",
     "text": [
      "\n",
      "Processing bird: B04\n"
     ]
    },
    {
     "name": "stderr",
     "output_type": "stream",
     "text": [
      "Processing bird folders:  19%|█▉        | 3/16 [2:08:31<10:45:48, 2980.66s/it]"
     ]
    },
    {
     "name": "stdout",
     "output_type": "stream",
     "text": [
      "\n",
      "Processing bird: B07\n"
     ]
    },
    {
     "name": "stderr",
     "output_type": "stream",
     "text": [
      "Processing bird folders:  25%|██▌       | 4/16 [2:20:17<6:56:31, 2082.59s/it] "
     ]
    },
    {
     "name": "stdout",
     "output_type": "stream",
     "text": [
      "\n",
      "Processing bird: B11\n"
     ]
    },
    {
     "name": "stderr",
     "output_type": "stream",
     "text": [
      "Processing bird folders:  31%|███▏      | 5/16 [3:08:28<7:15:16, 2374.21s/it]"
     ]
    },
    {
     "name": "stdout",
     "output_type": "stream",
     "text": [
      "\n",
      "Processing bird: B18\n"
     ]
    },
    {
     "name": "stderr",
     "output_type": "stream",
     "text": [
      "Processing bird folders:  38%|███▊      | 6/16 [3:25:41<5:19:41, 1918.19s/it]"
     ]
    },
    {
     "name": "stdout",
     "output_type": "stream",
     "text": [
      "\n",
      "Processing bird: B23\n"
     ]
    },
    {
     "name": "stderr",
     "output_type": "stream",
     "text": [
      "Processing bird folders:  44%|████▍     | 7/16 [3:44:42<4:09:37, 1664.16s/it]"
     ]
    },
    {
     "name": "stdout",
     "output_type": "stream",
     "text": [
      "\n",
      "Processing bird: B29\n"
     ]
    },
    {
     "name": "stderr",
     "output_type": "stream",
     "text": [
      "Processing bird folders:  50%|█████     | 8/16 [6:12:28<8:47:34, 3956.85s/it]"
     ]
    },
    {
     "name": "stdout",
     "output_type": "stream",
     "text": [
      "\n",
      "Processing bird: B30\n"
     ]
    },
    {
     "name": "stderr",
     "output_type": "stream",
     "text": [
      "Processing bird folders:  56%|█████▋    | 9/16 [6:58:46<6:58:37, 3588.15s/it]"
     ]
    },
    {
     "name": "stdout",
     "output_type": "stream",
     "text": [
      "\n",
      "Processing bird: B31\n"
     ]
    },
    {
     "name": "stderr",
     "output_type": "stream",
     "text": [
      "Processing bird folders:  62%|██████▎   | 10/16 [7:58:56<5:59:30, 3595.07s/it]"
     ]
    },
    {
     "name": "stdout",
     "output_type": "stream",
     "text": [
      "\n",
      "Processing bird: B50\n"
     ]
    },
    {
     "name": "stderr",
     "output_type": "stream",
     "text": [
      "Processing bird folders:  69%|██████▉   | 11/16 [8:18:15<3:57:26, 2849.29s/it]"
     ]
    },
    {
     "name": "stdout",
     "output_type": "stream",
     "text": [
      "\n",
      "Processing bird: B52\n"
     ]
    },
    {
     "name": "stderr",
     "output_type": "stream",
     "text": [
      "Processing bird folders:  75%|███████▌  | 12/16 [8:32:06<2:29:01, 2235.31s/it]"
     ]
    },
    {
     "name": "stdout",
     "output_type": "stream",
     "text": [
      "\n",
      "Processing bird: B05\n"
     ]
    },
    {
     "name": "stderr",
     "output_type": "stream",
     "text": [
      "Processing bird folders:  81%|████████▏ | 13/16 [9:02:05<1:45:09, 2103.13s/it]"
     ]
    },
    {
     "name": "stdout",
     "output_type": "stream",
     "text": [
      "\n",
      "Processing bird: B26\n"
     ]
    },
    {
     "name": "stderr",
     "output_type": "stream",
     "text": [
      "Processing bird folders:  88%|████████▊ | 14/16 [9:16:58<57:55, 1737.64s/it]  "
     ]
    },
    {
     "name": "stdout",
     "output_type": "stream",
     "text": [
      "\n",
      "Processing bird: B47\n"
     ]
    },
    {
     "name": "stderr",
     "output_type": "stream",
     "text": [
      "Processing bird folders:  94%|█████████▍| 15/16 [9:32:03<24:46, 1486.63s/it]"
     ]
    },
    {
     "name": "stdout",
     "output_type": "stream",
     "text": [
      "\n",
      "Processing bird: B49\n"
     ]
    },
    {
     "name": "stderr",
     "output_type": "stream",
     "text": [
      "Processing bird folders: 100%|██████████| 16/16 [9:46:58<00:00, 2201.15s/it]"
     ]
    },
    {
     "name": "stdout",
     "output_type": "stream",
     "text": [
      "\n",
      "Processed frames saved in: Fully_processed_frames\n",
      "Metadata saved at: Fully_processed_frames\\processed_frames_metadata.csv\n"
     ]
    },
    {
     "name": "stderr",
     "output_type": "stream",
     "text": [
      "\n"
     ]
    }
   ],
   "source": [
    "import os\n",
    "from pathlib import Path\n",
    "import cv2\n",
    "import pandas as pd\n",
    "from tqdm import tqdm\n",
    "from ultralytics import YOLO\n",
    "from PIL import Image\n",
    "import imagehash\n",
    "\n",
    "input_dir = r\"F:\\Bowerbird-ID_dataset\"  # Directory containing bird folders\n",
    "output_dir = \"Fully_processed_frames\"  # Directory for processed frames\n",
    "yolo_model_path = \"yolo11m-seg.pt\"  # Path to YOLO model\n",
    "sampling_interval = 240  # Extract a frame every 240 frames\n",
    "max_frames_per_bird = 200  # Total instances required per bird folder\n",
    "similarity_threshold = 5  # pHash similarity threshold\n",
    "\n",
    "metadata_csv = os.path.join(output_dir, \"processed_frames_metadata.csv\")\n",
    "os.makedirs(output_dir, exist_ok=True)\n",
    "\n",
    "if not os.path.exists(metadata_csv):\n",
    "    with open(metadata_csv, 'w') as f:\n",
    "        f.write(\"Bird ID,Video Name,Frame Name,Timestamp (s)\\n\")  # Headers of the metadata file\n",
    "\n",
    "# Load YOLO \n",
    "yolo_model = YOLO(yolo_model_path)\n",
    "\n",
    "# Iterate over the bird folders\n",
    "\n",
    "bird_folders = [f for f in Path(input_dir).iterdir() if f.is_dir()]\n",
    "for bird_folder in tqdm(bird_folders, desc=\"Processing bird folders\"):\n",
    "    bird_name = bird_folder.name  # Extract bird ID, e.g. \"B02\"\n",
    "    bird_output_dir = os.path.join(output_dir, bird_name)\n",
    "    os.makedirs(bird_output_dir, exist_ok=True)\n",
    "\n",
    "    valid_instances = 0  # Count of valid and unique frames for this bird\n",
    "    unique_hashes = []  # Store pHash values for unique frames\n",
    "\n",
    "    print(f\"\\nProcessing bird: {bird_name}\")\n",
    "\n",
    "    # Iterate over videos in the bird folder\n",
    "    video_files = list(bird_folder.glob(\"*.MP4\"))\n",
    "    for video_file in tqdm(video_files, desc=f\"Processing videos for {bird_name}\", leave=False):\n",
    "        if valid_instances >= max_frames_per_bird:\n",
    "            break\n",
    "\n",
    "        cap = cv2.VideoCapture(str(video_file))\n",
    "        frame_count = 0\n",
    "\n",
    "        while cap.isOpened():\n",
    "            ret, frame = cap.read()\n",
    "            if not ret:\n",
    "                break\n",
    "\n",
    "            # Sample frames\n",
    "            if frame_count % sampling_interval == 0:\n",
    "                # YOLO detection\n",
    "                result = yolo_model.predict(frame, conf=0.6, verbose=False)\n",
    "                if result[0].boxes:  # If bird detected\n",
    "                    # Convert frame to PIL Image for pHash\n",
    "                    pil_image = Image.fromarray(cv2.cvtColor(frame, cv2.COLOR_BGR2RGB))\n",
    "                    frame_hash = imagehash.phash(pil_image)\n",
    "\n",
    "                    # pHash frame similarity\n",
    "                    if all(abs(frame_hash - h) > similarity_threshold for h in unique_hashes):\n",
    "                        frame_name = f\"{Path(video_file).stem}_frame{frame_count}.png\"\n",
    "                        frame_path = os.path.join(bird_output_dir, frame_name)\n",
    "                        cv2.imwrite(frame_path, frame)\n",
    "\n",
    "                        # Get frame timestamp\n",
    "                        timestamp = cap.get(cv2.CAP_PROP_POS_MSEC) / 1000  # Convert to seconds\n",
    "\n",
    "                        # Append metadata to file\n",
    "                        with open(metadata_csv, 'a') as f:\n",
    "                            f.write(f\"{bird_name},{video_file.name},{frame_name},{timestamp}\\n\")\n",
    "\n",
    "                        # Update unique hash and frame counter\n",
    "                        unique_hashes.append(frame_hash) \n",
    "                        valid_instances += 1\n",
    "\n",
    "                        if valid_instances >= max_frames_per_bird:\n",
    "                            break\n",
    "\n",
    "            frame_count += 1\n",
    "\n",
    "        cap.release()\n",
    "\n",
    "    if valid_instances < max_frames_per_bird:\n",
    "        print(f\"Only {valid_instances} valid frames were collected for bird {bird_name}.\")\n",
    "\n",
    "print(f\"\\nProcessed frames saved in: {output_dir}\")\n",
    "print(f\"Metadata saved at: {metadata_csv}\")"
   ]
  },
  {
   "cell_type": "markdown",
   "metadata": {},
   "source": [
    "The script iterates through the folders to find videos for each bird:\n",
    "* Using OpenCV for frame extraction at a specified interval\n",
    "* Filter out redundant frames through Perceptual Hashing (pHash). I decided to start with pHash as it is faster and less computationally expensive and since I don't need clustering. If it fails I will consdier instead of other feature matching alternatives like ORB, SIFT, or SURF (within k-means algorithm) for more advanced comparisons. \n",
    "* Save the selected frames into bird-specific folders\n",
    "\n",
    "It also generates a CSV recording:\n",
    "* Original video name\n",
    "* Timestamp of the extracted frame in the original video\n",
    "* Filename of the frame\n",
    "\n",
    "This is debatable, but as of now I have decided to filter similar frames (using pHASH) that have not been mask segmented. In that way, te similarity is checked considering how close/far birds are to the camera, or where in the frame they apepar, rather than focusing strictly on the posture, which I assume would be the case if I filtered for similar frames after the image has been cropped\n",
    "In general, pHash works best when applied to full images with consistent backgrounds, as it captures overall image structure. Removing the background would probably lead to incorrectly marking unique frames as duplicates"
   ]
  },
  {
   "cell_type": "markdown",
   "metadata": {},
   "source": [
    "## Frame extraction"
   ]
  },
  {
   "cell_type": "code",
   "execution_count": null,
   "metadata": {},
   "outputs": [],
   "source": [
    "import os\n",
    "from pathlib import Path\n",
    "import cv2\n",
    "import csv\n",
    "from tqdm import tqdm \n",
    "\n",
    "input_dir = r\"F:\\Bowerbird-ID_dataset\"  # Path to the hard drive containing all valid videos\n",
    "output_dir = r\"C:\\Users\\Athena\\Documents\\Bowerbird-ID\\3_Frame_sampling\\1_Raw_extracted_frames\"\n",
    "sampling_interval = 120  # Extract a frame every 120 frames\n",
    "max_frames_per_bird = 300  # Max frames per bird folder\n",
    "max_videos_per_bird = 100  # Process only 10 videos per bird folder\n",
    "\n",
    "os.makedirs(output_dir, exist_ok=True)\n",
    "csv_data = []\n",
    "\n",
    "# Iterate through bird folders directly in the input directory\n",
    "for bird_folder in tqdm(Path(input_dir).iterdir()):\n",
    "    if bird_folder.is_dir():  # Check if it's a folder\n",
    "        bird_name = bird_folder.name  # Get bird ID (e.g., \"B02\")\n",
    "        bird_output_dir = os.path.join(output_dir, bird_name)\n",
    "        os.makedirs(bird_output_dir, exist_ok=True)\n",
    "\n",
    "        frame_paths = []\n",
    "        video_count = 0\n",
    "\n",
    "        for video_file in bird_folder.glob(\"*.MP4\"):\n",
    "            if video_count >= max_videos_per_bird:\n",
    "                break\n",
    "\n",
    "            cap = cv2.VideoCapture(str(video_file))\n",
    "            frame_count = 0\n",
    "            saved_count = 0\n",
    "            video_name = Path(video_file).stem\n",
    "\n",
    "            while cap.isOpened():\n",
    "                ret, frame = cap.read()\n",
    "                if not ret or saved_count >= max_frames_per_bird:\n",
    "                    break\n",
    "\n",
    "                # Save frames at the specified sampling interval\n",
    "                if frame_count % sampling_interval == 0:\n",
    "                    timestamp = cap.get(cv2.CAP_PROP_POS_MSEC) / 1000\n",
    "                    frame_name = f\"{video_name}_frame{frame_count}.png\"\n",
    "                    frame_path = os.path.join(bird_output_dir, frame_name)\n",
    "\n",
    "                    cv2.imwrite(frame_path, frame)\n",
    "                    frame_paths.append(frame_path)\n",
    "                    csv_data.append([bird_name, video_file.name, timestamp, frame_name])\n",
    "                    saved_count += 1\n",
    "\n",
    "                frame_count += 1\n",
    "\n",
    "            cap.release()\n",
    "            video_count += 1\n",
    "\n",
    "# Save metadata to CSV\n",
    "metadata_csv = os.path.join(output_dir, \"raw_frames_metadata.csv\")\n",
    "with open(metadata_csv, mode='w', newline='') as f:\n",
    "    writer = csv.writer(f)\n",
    "    writer.writerow([\"Bird ID\", \"Video Name\", \"Timestamp\", \"Frame Name\"])  # Include Bird ID\n",
    "    writer.writerows(csv_data)\n",
    "\n",
    "print(f\"Frame extraction complete. Metadata saved to {metadata_csv}\")"
   ]
  },
  {
   "cell_type": "markdown",
   "metadata": {},
   "source": [
    "## YOLO filtering"
   ]
  },
  {
   "cell_type": "code",
   "execution_count": null,
   "metadata": {},
   "outputs": [],
   "source": [
    "from ultralytics import YOLO\n",
    "import pandas as pd\n",
    "import os\n",
    "import shutil\n",
    "from tqdm import tqdm\n",
    "\n",
    "yolo_model = YOLO('yolo11m.pt') \n",
    "\n",
    "raw_metadata_csv = \"/Users/sarah/Bowerbird-ID/3_Frame_sampling/1_Raw_extracted_frames/raw_frames_metadata.csv\"\n",
    "raw_frames_dir = \"/Users/sarah/Bowerbird-ID/3_Frame_sampling/1_Raw_extracted_frames\"  # Directory containing raw frames with subfolders\n",
    "filtered_frames_dir = \"/Users/sarah/Bowerbird-ID/3_Frame_sampling/2_YOLO_filtered_frames\"  # Directory for valid frames\n",
    "filtered_out_frames_dir = \"/Users/sarah/Bowerbird-ID/3_Frame_sampling/Filtered_out_frames_no_bird\"  # Directory for invalid frames\n",
    "\n",
    "os.makedirs(filtered_frames_dir, exist_ok=True)\n",
    "os.makedirs(filtered_out_frames_dir, exist_ok=True)\n",
    "\n",
    "metadata = pd.read_csv(raw_metadata_csv)\n",
    "\n",
    "filtered_metadata = []\n",
    "\n",
    "print(\"Running YOLO on raw frames...\")\n",
    "for _, row in tqdm(metadata.iterrows(), total=len(metadata)):\n",
    "    frame_name = row[\"Frame Name\"]  \n",
    "    bird_id = row[\"Bird ID\"]  \n",
    "\n",
    "    frame_path = os.path.join(raw_frames_dir, bird_id, frame_name)\n",
    "    if not os.path.exists(frame_path):\n",
    "        print(f\"Warning: Frame not found at {frame_path}\")\n",
    "        continue\n",
    "\n",
    "    # Run YOLO det\n",
    "    results = yolo_model.predict(frame_path, conf=0.3, verbose=False)\n",
    "\n",
    "    if results[0].boxes:  # If a bird is detected...\n",
    "        # Create subdirectory structure in the filtered frames directory\n",
    "        filtered_subfolder_dir = os.path.join(filtered_frames_dir, bird_id)\n",
    "        os.makedirs(filtered_subfolder_dir, exist_ok=True)\n",
    "\n",
    "        # Copy valid frame to the corresponding subdirectory\n",
    "        valid_frame_path = os.path.join(filtered_subfolder_dir, frame_name)\n",
    "        shutil.copy(frame_path, valid_frame_path)  # Copy valid frame\n",
    "\n",
    "        # Add row to new metadata\n",
    "        filtered_metadata.append(row)\n",
    "    else:  # If no bird is detected...\n",
    "        # Copy invalid frame directly to the \"filtered out\" directory (no bird ID subfolder)\n",
    "        invalid_frame_path = os.path.join(filtered_out_frames_dir, frame_name)\n",
    "        shutil.copy(frame_path, invalid_frame_path)  # Copy invalid frame directly\n",
    "\n",
    "# Save updated metadata for valid frames\n",
    "filtered_metadata_csv = os.path.join(filtered_frames_dir, \"yolodet_frames_metadata.csv\")\n",
    "pd.DataFrame(filtered_metadata).to_csv(filtered_metadata_csv, index=False)\n",
    "\n",
    "print(f\"Done!\")\n",
    "print(f\"Filtered frames (with birds) saved in: {filtered_frames_dir}\")\n",
    "print(f\"Filtered-out frames (no birds) saved in: {filtered_out_frames_dir}\")\n",
    "print(f\"Updated metadata for valid frames saved at: {filtered_metadata_csv}\")"
   ]
  },
  {
   "cell_type": "markdown",
   "metadata": {},
   "source": [
    "## pHASH filtering"
   ]
  },
  {
   "cell_type": "code",
   "execution_count": null,
   "metadata": {},
   "outputs": [],
   "source": [
    "import pandas as pd\n",
    "import shutil\n",
    "\n",
    "filtered_metadata_csv = \"/Users/sarah/Bowerbird-ID/3_Frame_sampling/2_YOLO_filtered_frames/yolodet_frames_metadata.csv\"\n",
    "filtered_frames_dir = \"/Users/sarah/Bowerbird-ID/3_Frame_sampling/2_YOLO_filtered_frames\"  # Directory for valid YOLO-filtered frames\n",
    "phash_filtered_frames_dir = \"/Users/sarah/Bowerbird-ID/3_Frame_sampling/3_pHASH_filtered_frames\"  # Directory for pHASH-filtered frames\n",
    "os.makedirs(phash_filtered_frames_dir, exist_ok=True)\n",
    "\n",
    "# Perceptual Hashing Parameters\n",
    "similarity_threshold = 5\n",
    "\n",
    "# Load metadata\n",
    "metadata = pd.read_csv(filtered_metadata_csv)\n",
    "\n",
    "unique_metadata = []\n",
    "unique_hashes = {}\n",
    "\n",
    "total_frames = len(metadata)\n",
    "deleted_frames = 0\n",
    "\n",
    "print(\"Filtering similar frames across bird folders using perceptual hashing...\")\n",
    "for _, row in tqdm(metadata.iterrows(), total=total_frames):\n",
    "    frame_name = row[\"Frame Name\"]  \n",
    "    bird_id = row[\"Bird ID\"]  \n",
    "\n",
    "    frame_path = os.path.join(filtered_frames_dir, bird_id, frame_name)\n",
    "    if not os.path.exists(frame_path):\n",
    "        print(f\"Warning: Frame not found at {frame_path}\")\n",
    "        continue\n",
    "\n",
    "    img = Image.open(frame_path)\n",
    "    img_hash = imagehash.phash(img)\n",
    "\n",
    "    if bird_id not in unique_hashes:\n",
    "        unique_hashes[bird_id] = []\n",
    "\n",
    "    # Check if the hash is unique for this bird\n",
    "    if all(img_hash - h > similarity_threshold for h in unique_hashes[bird_id]):\n",
    "        # Add to unique list\n",
    "        unique_metadata.append(row)\n",
    "        unique_hashes[bird_id].append(img_hash)\n",
    "\n",
    "        # Create subdirectory structure for pHASH-filtered frames\n",
    "        phash_subfolder_dir = os.path.join(phash_filtered_frames_dir, bird_id)\n",
    "        os.makedirs(phash_subfolder_dir, exist_ok=True)\n",
    "\n",
    "        # Copy unique frame to the corresponding subdirectory\n",
    "        unique_frame_path = os.path.join(phash_subfolder_dir, frame_name)\n",
    "        shutil.copy(frame_path, unique_frame_path)\n",
    "    else:\n",
    "        # Increment deleted frames count\n",
    "        deleted_frames += 1\n",
    "\n",
    "# Save updated metadata for pHASH-filtered frames\n",
    "phash_metadata_csv = os.path.join(phash_filtered_frames_dir, \"phash_frames_metadata.csv\")\n",
    "pd.DataFrame(unique_metadata).to_csv(phash_metadata_csv, index=False)\n",
    "\n",
    "kept_frames = total_frames - deleted_frames\n",
    "deleted_percentage = (deleted_frames / total_frames) * 100 if total_frames > 0 else 0\n",
    "\n",
    "print(\"\\nFrame Filtering Summary:\")\n",
    "print(f\"Total frames processed: {total_frames}\")\n",
    "print(f\"Frames kept: {kept_frames}\")\n",
    "print(f\"Frames deleted: {deleted_frames}\")\n",
    "print(f\"Percentage of frames deleted: {deleted_percentage:.2f}%\")\n",
    "print(f\"Unique frames saved in: {phash_filtered_frames_dir}\")\n",
    "print(f\"Updated metadata for unique frames saved at: {phash_metadata_csv}\")"
   ]
  }
 ],
 "metadata": {
  "kernelspec": {
   "display_name": "yolo_env",
   "language": "python",
   "name": "python3"
  },
  "language_info": {
   "codemirror_mode": {
    "name": "ipython",
    "version": 3
   },
   "file_extension": ".py",
   "mimetype": "text/x-python",
   "name": "python",
   "nbconvert_exporter": "python",
   "pygments_lexer": "ipython3",
   "version": "3.8.20"
  }
 },
 "nbformat": 4,
 "nbformat_minor": 2
}
