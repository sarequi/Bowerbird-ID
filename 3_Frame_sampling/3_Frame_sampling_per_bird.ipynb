{
 "cells": [
  {
   "cell_type": "markdown",
   "metadata": {},
   "source": [
    "The script iterates through the folders to find videos for each bird:\n",
    "* Using OpenCV for frame extraction at a specified interval\n",
    "* Filter out redundant frames through Perceptual Hashing (pHash). I decided to start with pHash as it is faster and less computationally expensive and since I don't need clustering. If it fails I will consdier instead of other feature matching alternatives like ORB, SIFT, or SURF (within k-means algorithm) for more advanced comparisons. \n",
    "* Save the selected frames into bird-specific folders\n",
    "\n",
    "It also generates a CSV recording:\n",
    "* Original video name\n",
    "* Timestamp of the extracted frame in the original video\n",
    "* Filename of the frame\n",
    "\n",
    "This is debatable, but as of now I have decided to filter similar frames (using pHASH) that have not been mask segmented. In that way, te similarity is checked considering how close/far birds are to the camera, or where in the frame they apepar, rather than focusing strictly on the posture, which I assume would be the case if I filtered for similar frames after the image has been cropped\n",
    "In general, pHash works best when applied to full images with consistent backgrounds, as it captures overall image structure. Removing the background would probably lead to incorrectly marking unique frames as duplicates"
   ]
  },
  {
   "cell_type": "markdown",
   "metadata": {},
   "source": [
    "## Frame extraction"
   ]
  },
  {
   "cell_type": "code",
   "execution_count": null,
   "metadata": {},
   "outputs": [
    {
     "ename": "FileNotFoundError",
     "evalue": "[Errno 2] No such file or directory: '/Volumes/Sarequi/2_hdd'",
     "output_type": "error",
     "traceback": [
      "\u001b[0;31m---------------------------------------------------------------------------\u001b[0m",
      "\u001b[0;31mFileNotFoundError\u001b[0m                         Traceback (most recent call last)",
      "Cell \u001b[0;32mIn[1], line 20\u001b[0m\n\u001b[1;32m     18\u001b[0m \u001b[38;5;28;01mfor\u001b[39;00m folder_name \u001b[38;5;129;01min\u001b[39;00m relevant_folders:\n\u001b[1;32m     19\u001b[0m     folder_path \u001b[38;5;241m=\u001b[39m Path(input_dir) \u001b[38;5;241m/\u001b[39m folder_name\n\u001b[0;32m---> 20\u001b[0m     \u001b[38;5;28;01mfor\u001b[39;00m bird_folder \u001b[38;5;129;01min\u001b[39;00m folder_path\u001b[38;5;241m.\u001b[39miterdir():\n\u001b[1;32m     21\u001b[0m         \u001b[38;5;28;01mif\u001b[39;00m bird_folder\u001b[38;5;241m.\u001b[39mis_dir():\n\u001b[1;32m     22\u001b[0m             bird_name \u001b[38;5;241m=\u001b[39m bird_folder\u001b[38;5;241m.\u001b[39mname  \u001b[38;5;66;03m# Extract Bird ID (e.g., \"B02\")\u001b[39;00m\n",
      "File \u001b[0;32m~/miniconda3/envs/yolo_env/lib/python3.8/pathlib.py:1122\u001b[0m, in \u001b[0;36mPath.iterdir\u001b[0;34m(self)\u001b[0m\n\u001b[1;32m   1120\u001b[0m \u001b[38;5;28;01mif\u001b[39;00m \u001b[38;5;28mself\u001b[39m\u001b[38;5;241m.\u001b[39m_closed:\n\u001b[1;32m   1121\u001b[0m     \u001b[38;5;28mself\u001b[39m\u001b[38;5;241m.\u001b[39m_raise_closed()\n\u001b[0;32m-> 1122\u001b[0m \u001b[38;5;28;01mfor\u001b[39;00m name \u001b[38;5;129;01min\u001b[39;00m \u001b[38;5;28;43mself\u001b[39;49m\u001b[38;5;241;43m.\u001b[39;49m\u001b[43m_accessor\u001b[49m\u001b[38;5;241;43m.\u001b[39;49m\u001b[43mlistdir\u001b[49m\u001b[43m(\u001b[49m\u001b[38;5;28;43mself\u001b[39;49m\u001b[43m)\u001b[49m:\n\u001b[1;32m   1123\u001b[0m     \u001b[38;5;28;01mif\u001b[39;00m name \u001b[38;5;129;01min\u001b[39;00m {\u001b[38;5;124m'\u001b[39m\u001b[38;5;124m.\u001b[39m\u001b[38;5;124m'\u001b[39m, \u001b[38;5;124m'\u001b[39m\u001b[38;5;124m..\u001b[39m\u001b[38;5;124m'\u001b[39m}:\n\u001b[1;32m   1124\u001b[0m         \u001b[38;5;66;03m# Yielding a path object for these makes little sense\u001b[39;00m\n\u001b[1;32m   1125\u001b[0m         \u001b[38;5;28;01mcontinue\u001b[39;00m\n",
      "\u001b[0;31mFileNotFoundError\u001b[0m: [Errno 2] No such file or directory: '/Volumes/Sarequi/2_hdd'"
     ]
    }
   ],
   "source": [
    "import os\n",
    "from pathlib import Path\n",
    "import cv2\n",
    "import csv\n",
    "from tqdm import tqdm\n",
    "\n",
    "input_dir = \"/Volumes/Sarequi\" # path to the hard drive containing all valid videos \n",
    "output_dir = \"/Users/sarah/Bowerbird-ID/3_Frame_sampling/1_Raw_extracted_frames\"\n",
    "sampling_interval = 120  # Extract a frame every 120 frames\n",
    "max_frames_per_bird = 3  # Max frames per bird folder\n",
    "max_videos_per_bird = 3  # Process only 3 videos per bird folder\n",
    "relevant_folders = [\"2_hdd\", \"3_hdd\"]\n",
    "\n",
    "os.makedirs(output_dir, exist_ok=True)\n",
    "csv_data = [] \n",
    "\n",
    "for folder_name in relevant_folders:\n",
    "    folder_path = Path(input_dir) / folder_name\n",
    "    for bird_folder in folder_path.iterdir():\n",
    "        if bird_folder.is_dir():\n",
    "            bird_name = bird_folder.name  # Extract Bird ID (e.g., \"B02\")\n",
    "            bird_output_dir = os.path.join(output_dir, bird_name)\n",
    "            os.makedirs(bird_output_dir, exist_ok=True)\n",
    "\n",
    "            frame_paths = []\n",
    "            video_count = 0\n",
    "\n",
    "            for video_file in bird_folder.glob(\"*.MP4\"):\n",
    "                if video_count >= max_videos_per_bird:\n",
    "                    break\n",
    "\n",
    "                cap = cv2.VideoCapture(str(video_file))\n",
    "                frame_count = 0\n",
    "                saved_count = 0\n",
    "                video_name = Path(video_file).stem\n",
    "\n",
    "                while cap.isOpened():\n",
    "                    ret, frame = cap.read()\n",
    "                    if not ret or saved_count >= max_frames_per_bird:\n",
    "                        break\n",
    "\n",
    "                    if frame_count % sampling_interval == 0:\n",
    "                        timestamp = cap.get(cv2.CAP_PROP_POS_MSEC) / 1000\n",
    "                        frame_name = f\"{video_name}_frame{frame_count}.png\"\n",
    "                        frame_path = os.path.join(bird_output_dir, frame_name)\n",
    "\n",
    "                        cv2.imwrite(frame_path, frame)\n",
    "                        frame_paths.append(frame_path)\n",
    "                        csv_data.append([bird_name, video_file.name, timestamp, frame_name])\n",
    "                        saved_count += 1\n",
    "\n",
    "                    frame_count += 1\n",
    "\n",
    "                cap.release()\n",
    "                video_count += 1\n",
    "\n",
    "# Save metadata to CSV\n",
    "metadata_csv = os.path.join(output_dir, \"raw_frames_metadata.csv\")\n",
    "with open(metadata_csv, mode='w', newline='') as f:\n",
    "    writer = csv.writer(f)\n",
    "    writer.writerow([\"Bird ID\", \"Video Name\", \"Timestamp\", \"Frame Name\"])  # Added \"Bird ID\"\n",
    "    writer.writerows(csv_data)\n",
    "\n",
    "print(f\"Frame extraction complete. Metadata saved to {metadata_csv}\")"
   ]
  },
  {
   "cell_type": "markdown",
   "metadata": {},
   "source": [
    "## YOLO filtering"
   ]
  },
  {
   "cell_type": "code",
   "execution_count": null,
   "metadata": {},
   "outputs": [
    {
     "name": "stdout",
     "output_type": "stream",
     "text": [
      "Running YOLO on raw frames...\n"
     ]
    },
    {
     "name": "stderr",
     "output_type": "stream",
     "text": [
      "  0%|          | 0/63 [00:00<?, ?it/s][W NNPACK.cpp:64] Could not initialize NNPACK! Reason: Unsupported hardware.\n",
      "100%|██████████| 63/63 [01:10<00:00,  1.12s/it]"
     ]
    },
    {
     "name": "stdout",
     "output_type": "stream",
     "text": [
      "Done!\n",
      "Filtered frames (with birds) saved in: /Users/sarah/Bowerbird-ID/3_Frame_sampling/YOLO_filtered_frames\n",
      "Filtered-out frames (no birds) saved in: /Users/sarah/Bowerbird-ID/3_Frame_sampling/Filtered_out_frames_no_bird\n",
      "Updated metadata for valid frames saved at: /Users/sarah/Bowerbird-ID/3_Frame_sampling/YOLO_filtered_frames/yolodet_frames_metadata.csv\n"
     ]
    },
    {
     "name": "stderr",
     "output_type": "stream",
     "text": [
      "\n"
     ]
    }
   ],
   "source": [
    "from ultralytics import YOLO\n",
    "import pandas as pd\n",
    "import os\n",
    "import shutil\n",
    "from tqdm import tqdm\n",
    "\n",
    "yolo_model = YOLO('yolo11m.pt') \n",
    "\n",
    "raw_metadata_csv = \"/Users/sarah/Bowerbird-ID/3_Frame_sampling/1_Raw_extracted_frames/raw_frames_metadata.csv\"\n",
    "raw_frames_dir = \"/Users/sarah/Bowerbird-ID/3_Frame_sampling/1_Raw_extracted_frames\"  # Directory containing raw frames with subfolders\n",
    "filtered_frames_dir = \"/Users/sarah/Bowerbird-ID/3_Frame_sampling/2_YOLO_filtered_frames\"  # Directory for valid frames\n",
    "filtered_out_frames_dir = \"/Users/sarah/Bowerbird-ID/3_Frame_sampling/Filtered_out_frames_no_bird\"  # Directory for invalid frames\n",
    "\n",
    "os.makedirs(filtered_frames_dir, exist_ok=True)\n",
    "os.makedirs(filtered_out_frames_dir, exist_ok=True)\n",
    "\n",
    "metadata = pd.read_csv(raw_metadata_csv)\n",
    "\n",
    "filtered_metadata = []\n",
    "\n",
    "print(\"Running YOLO on raw frames...\")\n",
    "for _, row in tqdm(metadata.iterrows(), total=len(metadata)):\n",
    "    frame_name = row[\"Frame Name\"]  \n",
    "    bird_id = row[\"Bird ID\"]  \n",
    "\n",
    "    frame_path = os.path.join(raw_frames_dir, bird_id, frame_name)\n",
    "    if not os.path.exists(frame_path):\n",
    "        print(f\"Warning: Frame not found at {frame_path}\")\n",
    "        continue\n",
    "\n",
    "    # Run YOLO det\n",
    "    results = yolo_model.predict(frame_path, conf=0.3, verbose=False)\n",
    "\n",
    "    if results[0].boxes:  # If a bird is detected...\n",
    "        # Create subdirectory structure in the filtered frames directory\n",
    "        filtered_subfolder_dir = os.path.join(filtered_frames_dir, bird_id)\n",
    "        os.makedirs(filtered_subfolder_dir, exist_ok=True)\n",
    "\n",
    "        # Copy valid frame to the corresponding subdirectory\n",
    "        valid_frame_path = os.path.join(filtered_subfolder_dir, frame_name)\n",
    "        shutil.copy(frame_path, valid_frame_path)  # Copy valid frame\n",
    "\n",
    "        # Add row to new metadata\n",
    "        filtered_metadata.append(row)\n",
    "    else:  # If no bird is detected...\n",
    "        # Copy invalid frame directly to the \"filtered out\" directory (no bird ID subfolder)\n",
    "        invalid_frame_path = os.path.join(filtered_out_frames_dir, frame_name)\n",
    "        shutil.copy(frame_path, invalid_frame_path)  # Copy invalid frame directly\n",
    "\n",
    "# Save updated metadata for valid frames\n",
    "filtered_metadata_csv = os.path.join(filtered_frames_dir, \"yolodet_frames_metadata.csv\")\n",
    "pd.DataFrame(filtered_metadata).to_csv(filtered_metadata_csv, index=False)\n",
    "\n",
    "print(f\"Done!\")\n",
    "print(f\"Filtered frames (with birds) saved in: {filtered_frames_dir}\")\n",
    "print(f\"Filtered-out frames (no birds) saved in: {filtered_out_frames_dir}\")\n",
    "print(f\"Updated metadata for valid frames saved at: {filtered_metadata_csv}\")"
   ]
  },
  {
   "cell_type": "markdown",
   "metadata": {},
   "source": [
    "## pHASH filtering"
   ]
  },
  {
   "cell_type": "code",
   "execution_count": null,
   "metadata": {},
   "outputs": [
    {
     "name": "stdout",
     "output_type": "stream",
     "text": [
      "Filtering similar frames across bird folders using perceptual hashing...\n"
     ]
    },
    {
     "name": "stderr",
     "output_type": "stream",
     "text": [
      "100%|██████████| 41/41 [00:04<00:00,  9.57it/s]"
     ]
    },
    {
     "name": "stdout",
     "output_type": "stream",
     "text": [
      "\n",
      "Frame Filtering Summary:\n",
      "Total frames processed: 41\n",
      "Frames kept: 17\n",
      "Frames deleted: 24\n",
      "Percentage of frames deleted: 58.54%\n",
      "Unique frames saved in: /Users/sarah/Bowerbird-ID/3_Frame_sampling/pHASH_filtered_frames\n",
      "Updated metadata for unique frames saved at: /Users/sarah/Bowerbird-ID/3_Frame_sampling/pHASH_filtered_frames/phash_frames_metadata.csv\n"
     ]
    },
    {
     "name": "stderr",
     "output_type": "stream",
     "text": [
      "\n"
     ]
    }
   ],
   "source": [
    "import pandas as pd\n",
    "import shutil\n",
    "\n",
    "filtered_metadata_csv = \"/Users/sarah/Bowerbird-ID/3_Frame_sampling/2_YOLO_filtered_frames/yolodet_frames_metadata.csv\"\n",
    "filtered_frames_dir = \"/Users/sarah/Bowerbird-ID/3_Frame_sampling/2_YOLO_filtered_frames\"  # Directory for valid YOLO-filtered frames\n",
    "phash_filtered_frames_dir = \"/Users/sarah/Bowerbird-ID/3_Frame_sampling/3_pHASH_filtered_frames\"  # Directory for pHASH-filtered frames\n",
    "os.makedirs(phash_filtered_frames_dir, exist_ok=True)\n",
    "\n",
    "# Perceptual Hashing Parameters\n",
    "similarity_threshold = 5\n",
    "\n",
    "# Load metadata\n",
    "metadata = pd.read_csv(filtered_metadata_csv)\n",
    "\n",
    "unique_metadata = []\n",
    "unique_hashes = {}\n",
    "\n",
    "total_frames = len(metadata)\n",
    "deleted_frames = 0\n",
    "\n",
    "print(\"Filtering similar frames across bird folders using perceptual hashing...\")\n",
    "for _, row in tqdm(metadata.iterrows(), total=total_frames):\n",
    "    frame_name = row[\"Frame Name\"]  \n",
    "    bird_id = row[\"Bird ID\"]  \n",
    "\n",
    "    frame_path = os.path.join(filtered_frames_dir, bird_id, frame_name)\n",
    "    if not os.path.exists(frame_path):\n",
    "        print(f\"Warning: Frame not found at {frame_path}\")\n",
    "        continue\n",
    "\n",
    "    img = Image.open(frame_path)\n",
    "    img_hash = imagehash.phash(img)\n",
    "\n",
    "    if bird_id not in unique_hashes:\n",
    "        unique_hashes[bird_id] = []\n",
    "\n",
    "    # Check if the hash is unique for this bird\n",
    "    if all(img_hash - h > similarity_threshold for h in unique_hashes[bird_id]):\n",
    "        # Add to unique list\n",
    "        unique_metadata.append(row)\n",
    "        unique_hashes[bird_id].append(img_hash)\n",
    "\n",
    "        # Create subdirectory structure for pHASH-filtered frames\n",
    "        phash_subfolder_dir = os.path.join(phash_filtered_frames_dir, bird_id)\n",
    "        os.makedirs(phash_subfolder_dir, exist_ok=True)\n",
    "\n",
    "        # Copy unique frame to the corresponding subdirectory\n",
    "        unique_frame_path = os.path.join(phash_subfolder_dir, frame_name)\n",
    "        shutil.copy(frame_path, unique_frame_path)\n",
    "    else:\n",
    "        # Increment deleted frames count\n",
    "        deleted_frames += 1\n",
    "\n",
    "# Save updated metadata for pHASH-filtered frames\n",
    "phash_metadata_csv = os.path.join(phash_filtered_frames_dir, \"phash_frames_metadata.csv\")\n",
    "pd.DataFrame(unique_metadata).to_csv(phash_metadata_csv, index=False)\n",
    "\n",
    "kept_frames = total_frames - deleted_frames\n",
    "deleted_percentage = (deleted_frames / total_frames) * 100 if total_frames > 0 else 0\n",
    "\n",
    "print(\"\\nFrame Filtering Summary:\")\n",
    "print(f\"Total frames processed: {total_frames}\")\n",
    "print(f\"Frames kept: {kept_frames}\")\n",
    "print(f\"Frames deleted: {deleted_frames}\")\n",
    "print(f\"Percentage of frames deleted: {deleted_percentage:.2f}%\")\n",
    "print(f\"Unique frames saved in: {phash_filtered_frames_dir}\")\n",
    "print(f\"Updated metadata for unique frames saved at: {phash_metadata_csv}\")"
   ]
  }
 ],
 "metadata": {
  "kernelspec": {
   "display_name": "yolo_env",
   "language": "python",
   "name": "python3"
  },
  "language_info": {
   "codemirror_mode": {
    "name": "ipython",
    "version": 3
   },
   "file_extension": ".py",
   "mimetype": "text/x-python",
   "name": "python",
   "nbconvert_exporter": "python",
   "pygments_lexer": "ipython3",
   "version": "3.8.20"
  }
 },
 "nbformat": 4,
 "nbformat_minor": 2
}
