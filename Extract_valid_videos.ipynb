{
 "cells": [
  {
   "cell_type": "code",
   "execution_count": null,
   "metadata": {},
   "outputs": [],
   "source": [
    "import pandas as pd\n",
    "import json \n",
    "\n",
    "# define paths\n",
    "excel_file_path = '2018.xlsx'\n",
    "\n",
    "# load Excel file and filter sheets\n",
    "excel_file = pd.ExcelFile(excel_file_path)\n",
    "sheet_names = excel_file.sheet_names\n",
    "bird_sheets = [sheet_name for sheet_name in sheet_names if sheet_name.lower() != 'legend']\n",
    "\n",
    "valid_videos_per_bird = {}\n",
    "\n",
    "# extract valid videos for each bird\n",
    "for bird in bird_sheets:\n",
    "    df = pd.read_excel(excel_file, sheet_name=bird, usecols=[\"Owner\", \"Others\", \"Copulation\", \"Video ID\"])\n",
    "    valid_videos = df[(df['Owner'].isin([1, 2, 3, 4])) & (df['Others'] == 0) & (df['Copulation'] == 0)]\n",
    "    valid_videos_per_bird[bird] = valid_videos['Video ID'].tolist()\n",
    "\n",
    "# save valid video list to a JSON file for reuse in the second script\n",
    "with open('valid_videos.json', 'w') as f:\n",
    "    json.dump(valid_videos_per_bird, f)\n",
    "\n",
    "print(f\"Done\")"
   ]
  },
  {
   "cell_type": "code",
   "execution_count": 20,
   "metadata": {},
   "outputs": [
    {
     "ename": "NameError",
     "evalue": "name 'r' is not defined",
     "output_type": "error",
     "traceback": [
      "\u001b[0;31m---------------------------------------------------------------------------\u001b[0m",
      "\u001b[0;31mNameError\u001b[0m                                 Traceback (most recent call last)",
      "Cell \u001b[0;32mIn[20], line 56\u001b[0m\n\u001b[1;32m     53\u001b[0m     \u001b[38;5;28;01mfor\u001b[39;00m bird, count \u001b[38;5;129;01min\u001b[39;00m bird_video_count\u001b[38;5;241m.\u001b[39mitems():\n\u001b[1;32m     54\u001b[0m         \u001b[38;5;28mprint\u001b[39m(\u001b[38;5;124mf\u001b[39m\u001b[38;5;124m\"\u001b[39m\u001b[38;5;124mCopied \u001b[39m\u001b[38;5;132;01m{\u001b[39;00mcount\u001b[38;5;132;01m}\u001b[39;00m\u001b[38;5;124m videos for \u001b[39m\u001b[38;5;132;01m{\u001b[39;00mbird\u001b[38;5;132;01m}\u001b[39;00m\u001b[38;5;124m\"\u001b[39m)\n\u001b[0;32m---> 56\u001b[0m \u001b[43mprocess_folders\u001b[49m\u001b[43m(\u001b[49m\u001b[43m)\u001b[49m\n",
      "Cell \u001b[0;32mIn[20], line 30\u001b[0m, in \u001b[0;36mprocess_folders\u001b[0;34m()\u001b[0m\n\u001b[1;32m     28\u001b[0m copied_videos \u001b[38;5;241m=\u001b[39m \u001b[38;5;241m0\u001b[39m\n\u001b[1;32m     29\u001b[0m total_videos_to_copy \u001b[38;5;241m=\u001b[39m \u001b[38;5;28msum\u001b[39m(\u001b[38;5;28mlen\u001b[39m(files) \u001b[38;5;28;01mfor\u001b[39;00m r, d, files \u001b[38;5;129;01min\u001b[39;00m os\u001b[38;5;241m.\u001b[39mwalk(bird_folder_path) \u001b[38;5;28;01mif\u001b[39;00m \u001b[38;5;124m'\u001b[39m\u001b[38;5;124mok\u001b[39m\u001b[38;5;124m'\u001b[39m \u001b[38;5;129;01min\u001b[39;00m r\u001b[38;5;241m.\u001b[39mlower())\n\u001b[0;32m---> 30\u001b[0m \u001b[38;5;28mprint\u001b[39m(\u001b[43mr\u001b[49m)\n\u001b[1;32m     33\u001b[0m \u001b[38;5;28mprint\u001b[39m(\u001b[38;5;124mf\u001b[39m\u001b[38;5;124m\"\u001b[39m\u001b[38;5;124mProcessing \u001b[39m\u001b[38;5;132;01m{\u001b[39;00mbird_folder\u001b[38;5;132;01m}\u001b[39;00m\u001b[38;5;124m (ID: \u001b[39m\u001b[38;5;132;01m{\u001b[39;00mbird_id\u001b[38;5;132;01m}\u001b[39;00m\u001b[38;5;124m)\u001b[39m\u001b[38;5;124m\"\u001b[39m)\n\u001b[1;32m     34\u001b[0m \u001b[38;5;28;01mwith\u001b[39;00m tqdm(total\u001b[38;5;241m=\u001b[39m\u001b[38;5;28mmin\u001b[39m(total_videos_to_copy, max_videos_per_bird), desc\u001b[38;5;241m=\u001b[39m\u001b[38;5;124mf\u001b[39m\u001b[38;5;124m\"\u001b[39m\u001b[38;5;124mCopying videos for \u001b[39m\u001b[38;5;132;01m{\u001b[39;00mbird_id\u001b[38;5;132;01m}\u001b[39;00m\u001b[38;5;124m\"\u001b[39m) \u001b[38;5;28;01mas\u001b[39;00m pbar:\n",
      "\u001b[0;31mNameError\u001b[0m: name 'r' is not defined"
     ]
    }
   ],
   "source": [
    "import os\n",
    "import shutil\n",
    "import json\n",
    "import re\n",
    "from tqdm import tqdm \n",
    "\n",
    "data_root = '/media/juarezs98/Untitled/#4_2018/'\n",
    "destination_base_folder = '/media/juarezs98/Sarah/4/'\n",
    "max_videos_per_bird = 50\n",
    "\n",
    "with open('valid_videos_names.json', 'r') as f:\n",
    "    valid_videos_per_bird = json.load(f)\n",
    "\n",
    "def process_folders():\n",
    "    bird_video_count = {}\n",
    "\n",
    "    pattern = r'B\\d{2}'  # Regular expression to find folders containing \"Bxx\" (where xx are digits)\n",
    "\n",
    "    for bird_folder in os.listdir(data_root):\n",
    "        if re.search(pattern, bird_folder): \n",
    "            bird_folder_path = os.path.join(data_root, bird_folder)\n",
    "            bird_id_match = re.search(pattern, bird_folder)\n",
    "            bird_id = bird_id_match.group(0) if bird_id_match else None\n",
    "\n",
    "            if not bird_id or bird_id not in valid_videos_per_bird:\n",
    "                continue\n",
    "\n",
    "            copied_videos = 0\n",
    "            total_videos_to_copy = sum(len(files) for r, d, files in os.walk(bird_folder_path) if 'ok' in r.lower())\n",
    "            \n",
    "            print(f\"Processing {bird_folder} (ID: {bird_id})\")\n",
    "            with tqdm(total=min(total_videos_to_copy, max_videos_per_bird), desc=f\"Copying videos for {bird_id}\") as pbar:\n",
    "                for subfolder in os.listdir(bird_folder_path):\n",
    "                    if 'ok' in subfolder.lower():\n",
    "                        subfolder_path = os.path.join(bird_folder_path, subfolder)\n",
    "\n",
    "                        for video in os.listdir(subfolder_path):\n",
    "                            video_name_without_ext = os.path.splitext(video)[0]  \n",
    "                            if copied_videos >= max_videos_per_bird:\n",
    "                                break\n",
    "                            if video_name_without_ext in valid_videos_per_bird[bird_id]:  \n",
    "                                src = os.path.join(subfolder_path, video)\n",
    "                                dest = os.path.join(destination_base_folder, bird_id, video)\n",
    "                                os.makedirs(os.path.dirname(dest), exist_ok=True)  \n",
    "                                shutil.copy2(src, dest)\n",
    "                                copied_videos += 1\n",
    "                                pbar.update(1)\n",
    "\n",
    "            bird_video_count[bird_id] = copied_videos\n",
    "\n",
    "    for bird, count in bird_video_count.items():\n",
    "        print(f\"Copied {count} videos for {bird}\")\n",
    "\n",
    "process_folders()"
   ]
  }
 ],
 "metadata": {
  "kernelspec": {
   "display_name": "Python 3",
   "language": "python",
   "name": "python3"
  },
  "language_info": {
   "codemirror_mode": {
    "name": "ipython",
    "version": 3
   },
   "file_extension": ".py",
   "mimetype": "text/x-python",
   "name": "python",
   "nbconvert_exporter": "python",
   "pygments_lexer": "ipython3",
   "version": "3.10.12"
  }
 },
 "nbformat": 4,
 "nbformat_minor": 2
}
