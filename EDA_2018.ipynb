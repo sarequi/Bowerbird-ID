{
 "cells": [
  {
   "cell_type": "markdown",
   "metadata": {},
   "source": [
    "### Number of identified birds in 2018"
   ]
  },
  {
   "cell_type": "code",
   "execution_count": 20,
   "metadata": {},
   "outputs": [
    {
     "name": "stdout",
     "output_type": "stream",
     "text": [
      "Number of ID'd birds: 16\n"
     ]
    }
   ],
   "source": [
    "import pandas as pd\n",
    "\n",
    "excel_file = pd.ExcelFile('/data/home/juarezs98/Bowerbird-ID/2018.xlsx')\n",
    "sheet_names = excel_file.sheet_names\n",
    "bird_sheets = [sheet_name for sheet_name in sheet_names if sheet_name.lower() != 'legend'] # filters out the \"legend\" sheet\n",
    "\n",
    "print(f'Number of ID\\'d birds: {len(bird_sheets)}')"
   ]
  },
  {
   "cell_type": "markdown",
   "metadata": {},
   "source": [
    "### Number of valid videos per bird\n",
    "\n",
    "Retrieves the list of bird IDs (sheet names), and counts how many rows in each sheet fit the inclusion criteria.\n",
    "\n",
    "Inclusion criteria:\n",
    "* Based on the “Owner” column: Counts only “1” (owner of the bower visible), “2” (owner doing bower maintenance); “3” (owner displaying courtship which it can do while alone), or “4” (bird doing maintenance and display). \n",
    "* Based on the “Others” column: Counts only “0” (there are no other birds or they are not visible)\n",
    "* Based on the “Copulation” column: Counts only “0” (no copulation, although this could be infered if \"Others\" is \"0\")"
   ]
  },
  {
   "cell_type": "code",
   "execution_count": 23,
   "metadata": {},
   "outputs": [
    {
     "name": "stdout",
     "output_type": "stream",
     "text": [
      "Bird B02, Valid videos: 1319\n",
      "Bird B03, Valid videos: 1197\n",
      "Bird B04, Valid videos: 0\n",
      "Bird B05, Valid videos: 2759\n",
      "Bird B07, Valid videos: 0\n",
      "Bird B11, Valid videos: 628\n",
      "Bird B18, Valid videos: 0\n",
      "Bird B23, Valid videos: 0\n",
      "Bird B26, Valid videos: 0\n",
      "Bird B29, Valid videos: 848\n",
      "Bird B30, Valid videos: 1145\n",
      "Bird B31, Valid videos: 0\n",
      "Bird B47, Valid videos: 807\n",
      "Bird B49, Valid videos: 0\n",
      "Bird B50, Valid videos: 0\n",
      "Bird B52, Valid videos: 0\n"
     ]
    }
   ],
   "source": [
    "valid_counts = {} # stores the count of valid rows per bird\n",
    "\n",
    "for bird in bird_sheets:\n",
    "    df = pd.read_excel(excel_file, sheet_name=bird, usecols=[\"Owner\", \"Others\", \"Copulation\"])\n",
    "    \n",
    "    # filtering criteria (if \"Owner\" is either 1, 2, 3, or 4; if \"Others\" is 0; and if \"Copulation\" is 0)\n",
    "    valid_count = df[(df['Owner'].isin([1, 2, 3, 4])) & (df['Others'] == 0) & (df['Copulation'] == 0)].shape[0]\n",
    "    valid_counts[bird] = valid_count\n",
    "\n",
    "for bird, count in valid_counts.items():\n",
    "    print(f'Bird {bird}, Valid videos: {count}')\n"
   ]
  },
  {
   "cell_type": "markdown",
   "metadata": {},
   "source": []
  }
 ],
 "metadata": {
  "kernelspec": {
   "display_name": "Python 3",
   "language": "python",
   "name": "python3"
  },
  "language_info": {
   "codemirror_mode": {
    "name": "ipython",
    "version": 3
   },
   "file_extension": ".py",
   "mimetype": "text/x-python",
   "name": "python",
   "nbconvert_exporter": "python",
   "pygments_lexer": "ipython3",
   "version": "3.10.12"
  }
 },
 "nbformat": 4,
 "nbformat_minor": 2
}
