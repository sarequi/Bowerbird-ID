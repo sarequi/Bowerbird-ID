{
 "cells": [
  {
   "cell_type": "code",
   "execution_count": 9,
   "id": "1297c26d-bd5a-498d-825f-fff42e16b39f",
   "metadata": {},
   "outputs": [
    {
     "name": "stderr",
     "output_type": "stream",
     "text": [
      "Processing B26: 100%|██████████| 5/5 [00:29<00:00,  5.97s/it]\n",
      "Processing B52: 100%|██████████| 5/5 [01:16<00:00, 15.25s/it]\n",
      "Processing B02: 100%|██████████| 5/5 [01:17<00:00, 15.42s/it]\n",
      "Processing B03: 100%|██████████| 5/5 [02:07<00:00, 25.47s/it]\n",
      "Processing B04: 100%|██████████| 5/5 [01:40<00:00, 20.17s/it]\n",
      "Processing B30: 100%|██████████| 5/5 [02:07<00:00, 25.50s/it]\n",
      "Processing B05: 100%|██████████| 5/5 [00:42<00:00,  8.40s/it]\n",
      "Processing B47: 100%|██████████| 5/5 [01:10<00:00, 14.06s/it]\n",
      "Processing B31: 100%|██████████| 5/5 [01:02<00:00, 12.58s/it]\n",
      "Processing B23: 100%|██████████| 5/5 [00:55<00:00, 11.10s/it]\n",
      "Processing B11: 100%|██████████| 5/5 [00:35<00:00,  7.16s/it]\n",
      "Processing B18: 100%|██████████| 5/5 [01:41<00:00, 20.34s/it]\n",
      "Processing B50: 100%|██████████| 5/5 [01:57<00:00, 23.54s/it]\n",
      "Processing B07: 100%|██████████| 5/5 [01:24<00:00, 16.83s/it]\n",
      "Processing B49: 100%|██████████| 5/5 [01:11<00:00, 14.22s/it]\n",
      "Processing B29: 100%|██████████| 5/5 [01:27<00:00, 17.53s/it]"
     ]
    },
    {
     "name": "stdout",
     "output_type": "stream",
     "text": [
      "Done extracting frames\n"
     ]
    },
    {
     "name": "stderr",
     "output_type": "stream",
     "text": [
      "\n"
     ]
    }
   ],
   "source": [
    "import os\n",
    "from pathlib import Path\n",
    "import cv2\n",
    "from tqdm import tqdm\n",
    "from ultralytics import YOLO\n",
    "from PIL import Image\n",
    "import imagehash\n",
    "\n",
    "\n",
    "INPUT_DIR = \"/gpfs/data/fs72607/juarezs98/extracted_frames/Extracted_test_videos\"\n",
    "OUTPUT_DIR = \"/home/fs72607/juarezs98/Bowerbird-ID/7_Classify_bowerbird_ID/Extracted_frames\"\n",
    "YOLO_MODEL_PATH = \"yolo11x-seg.pt\"\n",
    "\n",
    "# Parameters\n",
    "SAMPLING_INTERVAL = 60\n",
    "IOU_THRESHOLD = 0.5\n",
    "SIMILARITY_THRESHOLD = 5\n",
    "MAX_VIDEOS_PER_FOLDER = 5\n",
    "\n",
    "# Load YOLO model\n",
    "yolo_model = YOLO(YOLO_MODEL_PATH)\n",
    "\n",
    "def calculate_iou(box1, box2):\n",
    "    \"\"\"Calculates Intersection over Union (IoU) for two bounding boxes\"\"\"\n",
    "    x1, y1, x2, y2 = box1\n",
    "    x1_, y1_, x2_, y2_ = box2  \n",
    "    inter_x1, inter_y1 = max(x1, x1_), max(y1, y1_)\n",
    "    inter_x2, inter_y2 = min(x2, x2_), min(y2, y2_)\n",
    "    \n",
    "    inter_area = max(0, inter_x2 - inter_x1) * max(0, inter_y2 - inter_y1)\n",
    "    union_area = (x2 - x1) * (y2 - y1) + (x2_ - x1_) * (y2_ - y1_) - inter_area\n",
    "    \n",
    "    return inter_area / union_area if union_area else 0\n",
    "\n",
    "def process_video(video_path, output_subdir):\n",
    "    cap = cv2.VideoCapture(str(video_path))\n",
    "    frame_count = 0\n",
    "    unique_hashes = set()\n",
    "\n",
    "    while cap.isOpened():\n",
    "        ret, frame = cap.read()\n",
    "        if not ret:\n",
    "            break\n",
    "\n",
    "        if frame_count % SAMPLING_INTERVAL == 0:\n",
    "            results = yolo_model.predict(frame, conf=0.3, verbose=False)\n",
    "            detections = results[0].boxes\n",
    "\n",
    "            if len(detections) > 1:\n",
    "                cap.release()\n",
    "                return  # Skip video if multiple birds are detected\n",
    "\n",
    "            filtered_detections = []\n",
    "            for i, box in enumerate(detections.xyxy):\n",
    "                x1, y1, x2, y2 = map(int, box)\n",
    "                score = detections.conf[i]\n",
    "\n",
    "                if not any(calculate_iou((x1, y1, x2, y2), det[:4]) > IOU_THRESHOLD for det in filtered_detections):\n",
    "                    filtered_detections.append((x1, y1, x2, y2, score))\n",
    "\n",
    "            if filtered_detections:\n",
    "                x1, y1, x2, y2, _ = max(filtered_detections, key=lambda d: d[-1])\n",
    "                cropped = frame[y1:y2, x1:x2]\n",
    "                pil_image = Image.fromarray(cv2.cvtColor(cropped, cv2.COLOR_BGR2RGB))\n",
    "                frame_hash = imagehash.phash(pil_image)\n",
    "\n",
    "                if all(abs(frame_hash - h) > SIMILARITY_THRESHOLD for h in unique_hashes):\n",
    "                    frame_path = output_subdir / f\"{video_path.stem}_frame{frame_count}.png\"\n",
    "                    if cv2.imwrite(str(frame_path), frame):\n",
    "                        unique_hashes.add(frame_hash)\n",
    "\n",
    "        frame_count += 1\n",
    "\n",
    "    cap.release()\n",
    "\n",
    "for subdir in Path(INPUT_DIR).iterdir():\n",
    "    if subdir.is_dir():\n",
    "        output_subdir = Path(OUTPUT_DIR) / subdir.name\n",
    "        output_subdir.mkdir(parents=True, exist_ok=True)\n",
    "\n",
    "        video_files = list(subdir.glob(\"*.MP4\"))[:MAX_VIDEOS_PER_FOLDER]\n",
    "        for video in tqdm(video_files, desc=f\"Processing {subdir.name}\"):\n",
    "            process_video(video, output_subdir)\n",
    "\n",
    "print(\"Done extracting frames\")"
   ]
  },
  {
   "cell_type": "code",
   "execution_count": 10,
   "id": "71a1160f-b03a-4ca4-9e1c-1285cfa2051c",
   "metadata": {},
   "outputs": [
    {
     "name": "stderr",
     "output_type": "stream",
     "text": [
      "/home/fs72607/juarezs98/.conda/envs/sarah_env/lib/python3.10/site-packages/torchvision/models/_utils.py:208: UserWarning: The parameter 'pretrained' is deprecated since 0.13 and may be removed in the future, please use 'weights' instead.\n",
      "  warnings.warn(\n",
      "/home/fs72607/juarezs98/.conda/envs/sarah_env/lib/python3.10/site-packages/torchvision/models/_utils.py:223: UserWarning: Arguments other than a weight enum or `None` for 'weights' are deprecated since 0.13 and may be removed in the future. The current behavior is equivalent to passing `weights=None`.\n",
      "  warnings.warn(msg)\n",
      "Classifying B26: 19it [00:02,  8.74it/s]\n"
     ]
    },
    {
     "name": "stdout",
     "output_type": "stream",
     "text": [
      "\n",
      "B26 - Most likely bird: B52 (19 frames, Avg confidence: 100.00%)\n",
      "    Top 3 predictions: B52 (19 frames)\n",
      "\n"
     ]
    },
    {
     "name": "stderr",
     "output_type": "stream",
     "text": [
      "Classifying B52: 65it [00:07,  8.99it/s]\n"
     ]
    },
    {
     "name": "stdout",
     "output_type": "stream",
     "text": [
      "\n",
      "B52 - Most likely bird: B52 (54 frames, Avg confidence: 98.47%)\n",
      "    Top 3 predictions: B52 (54 frames), B03 (6 frames), B04 (5 frames)\n",
      "\n"
     ]
    },
    {
     "name": "stderr",
     "output_type": "stream",
     "text": [
      "Classifying B02: 35it [00:03,  9.74it/s]\n"
     ]
    },
    {
     "name": "stdout",
     "output_type": "stream",
     "text": [
      "\n",
      "B02 - Most likely bird: B02 (20 frames, Avg confidence: 79.41%)\n",
      "    Top 3 predictions: B02 (20 frames), B52 (11 frames), B29 (4 frames)\n",
      "\n"
     ]
    },
    {
     "name": "stderr",
     "output_type": "stream",
     "text": [
      "Classifying B03: 56it [00:06,  9.00it/s]\n"
     ]
    },
    {
     "name": "stdout",
     "output_type": "stream",
     "text": [
      "\n",
      "B03 - Most likely bird: B03 (43 frames, Avg confidence: 80.61%)\n",
      "    Top 3 predictions: B03 (43 frames), B31 (8 frames), B04 (5 frames)\n",
      "\n"
     ]
    },
    {
     "name": "stderr",
     "output_type": "stream",
     "text": [
      "Classifying B04: 90it [00:09,  9.49it/s]\n"
     ]
    },
    {
     "name": "stdout",
     "output_type": "stream",
     "text": [
      "\n",
      "B04 - Most likely bird: B03 (66 frames, Avg confidence: 93.63%)\n",
      "    Top 3 predictions: B03 (66 frames), B52 (21 frames), B31 (2 frames)\n",
      "\n"
     ]
    },
    {
     "name": "stderr",
     "output_type": "stream",
     "text": [
      "Classifying B30: 127it [00:13,  9.32it/s]\n"
     ]
    },
    {
     "name": "stdout",
     "output_type": "stream",
     "text": [
      "\n",
      "B30 - Most likely bird: B52 (123 frames, Avg confidence: 93.69%)\n",
      "    Top 3 predictions: B52 (123 frames), B04 (4 frames)\n",
      "\n"
     ]
    },
    {
     "name": "stderr",
     "output_type": "stream",
     "text": [
      "Classifying B05: 28it [00:03,  9.12it/s]\n"
     ]
    },
    {
     "name": "stdout",
     "output_type": "stream",
     "text": [
      "\n",
      "B05 - Most likely bird: B52 (22 frames, Avg confidence: 82.12%)\n",
      "    Top 3 predictions: B52 (22 frames), B04 (3 frames), B03 (2 frames)\n",
      "\n"
     ]
    },
    {
     "name": "stderr",
     "output_type": "stream",
     "text": [
      "Classifying B47: 42it [00:04,  9.33it/s]\n"
     ]
    },
    {
     "name": "stdout",
     "output_type": "stream",
     "text": [
      "\n",
      "B47 - Most likely bird: B52 (42 frames, Avg confidence: 99.20%)\n",
      "    Top 3 predictions: B52 (42 frames)\n",
      "\n"
     ]
    },
    {
     "name": "stderr",
     "output_type": "stream",
     "text": [
      "Classifying B31: 14it [00:01, 10.14it/s]\n"
     ]
    },
    {
     "name": "stdout",
     "output_type": "stream",
     "text": [
      "\n",
      "B31 - Most likely bird: B52 (11 frames, Avg confidence: 88.42%)\n",
      "    Top 3 predictions: B52 (11 frames), B31 (3 frames)\n",
      "\n"
     ]
    },
    {
     "name": "stderr",
     "output_type": "stream",
     "text": [
      "Classifying B23: 34it [00:03,  9.37it/s]\n"
     ]
    },
    {
     "name": "stdout",
     "output_type": "stream",
     "text": [
      "\n",
      "B23 - Most likely bird: B03 (25 frames, Avg confidence: 90.41%)\n",
      "    Top 3 predictions: B03 (25 frames), B49 (7 frames), B52 (2 frames)\n",
      "\n"
     ]
    },
    {
     "name": "stderr",
     "output_type": "stream",
     "text": [
      "Classifying B11: 20it [00:02,  9.62it/s]\n"
     ]
    },
    {
     "name": "stdout",
     "output_type": "stream",
     "text": [
      "\n",
      "B11 - Most likely bird: B31 (15 frames, Avg confidence: 86.76%)\n",
      "    Top 3 predictions: B31 (15 frames), B52 (5 frames)\n",
      "\n"
     ]
    },
    {
     "name": "stderr",
     "output_type": "stream",
     "text": [
      "Classifying B18: 67it [00:06,  9.71it/s]\n"
     ]
    },
    {
     "name": "stdout",
     "output_type": "stream",
     "text": [
      "\n",
      "B18 - Most likely bird: B52 (67 frames, Avg confidence: 94.32%)\n",
      "    Top 3 predictions: B52 (67 frames)\n",
      "\n"
     ]
    },
    {
     "name": "stderr",
     "output_type": "stream",
     "text": [
      "Classifying B50: 97it [00:10,  9.35it/s]\n"
     ]
    },
    {
     "name": "stdout",
     "output_type": "stream",
     "text": [
      "\n",
      "B50 - Most likely bird: B52 (97 frames, Avg confidence: 99.98%)\n",
      "    Top 3 predictions: B52 (97 frames)\n",
      "\n"
     ]
    },
    {
     "name": "stderr",
     "output_type": "stream",
     "text": [
      "Classifying B07: 65it [00:06,  9.54it/s]\n"
     ]
    },
    {
     "name": "stdout",
     "output_type": "stream",
     "text": [
      "\n",
      "B07 - Most likely bird: B52 (29 frames, Avg confidence: 99.88%)\n",
      "    Top 3 predictions: B52 (29 frames), B07 (18 frames), B50 (9 frames)\n",
      "\n"
     ]
    },
    {
     "name": "stderr",
     "output_type": "stream",
     "text": [
      "Classifying B49: 58it [00:05,  9.69it/s]\n"
     ]
    },
    {
     "name": "stdout",
     "output_type": "stream",
     "text": [
      "\n",
      "B49 - Most likely bird: B03 (22 frames, Avg confidence: 72.78%)\n",
      "    Top 3 predictions: B03 (22 frames), B52 (14 frames), B49 (10 frames)\n",
      "\n"
     ]
    },
    {
     "name": "stderr",
     "output_type": "stream",
     "text": [
      "Classifying B29: 26it [00:02,  9.58it/s]"
     ]
    },
    {
     "name": "stdout",
     "output_type": "stream",
     "text": [
      "\n",
      "B29 - Most likely bird: B52 (25 frames, Avg confidence: 99.59%)\n",
      "    Top 3 predictions: B52 (25 frames), B03 (1 frames)\n",
      "\n"
     ]
    },
    {
     "name": "stderr",
     "output_type": "stream",
     "text": [
      "\n"
     ]
    }
   ],
   "source": [
    "import torch\n",
    "from torchvision import models, transforms\n",
    "from collections import Counter\n",
    "import torch.nn.functional as F\n",
    "\n",
    "OUTPUT_DIR = \"/home/fs72607/juarezs98/Bowerbird-ID/7_Classify_bowerbird_ID/Extracted_frames\"\n",
    "MODEL_PATH = \"/home/fs72607/juarezs98/Bowerbird-ID/6_Train_ResNet50/Full dataset (minus test videos)/best_model.pth\"\n",
    "\n",
    "CLASS_NAMES = {i: name for i, name in enumerate([\n",
    "    'B02', 'B03', 'B04', 'B05', 'B07', 'B11', 'B18', 'B23',\n",
    "    'B26', 'B29', 'B30', 'B31', 'B47', 'B49', 'B50', 'B52'\n",
    "])}\n",
    "\n",
    "# loads model\n",
    "device = torch.device(\"cuda\" if torch.cuda.is_available() else \"cpu\")\n",
    "model = models.resnet50(pretrained=False)\n",
    "model.fc = torch.nn.Linear(model.fc.in_features, len(CLASS_NAMES))  # Ensure correct output size\n",
    "model.load_state_dict(torch.load(MODEL_PATH, map_location=device))\n",
    "model.to(device).eval()\n",
    "\n",
    "# data transformation\n",
    "transform = transforms.Compose([\n",
    "    transforms.Resize((224, 224)),\n",
    "    transforms.ToTensor(),\n",
    "    transforms.Normalize(mean=[0.485, 0.456, 0.406], std=[0.229, 0.224, 0.225]),\n",
    "])\n",
    "\n",
    "# process each folder\n",
    "for subdir in Path(OUTPUT_DIR).iterdir():\n",
    "    if subdir.is_dir():\n",
    "        predictions = []\n",
    "        confidences = []\n",
    "\n",
    "        for frame_path in tqdm(subdir.glob(\"*.png\"), desc=f\"Classifying {subdir.name}\"):\n",
    "            image = Image.open(frame_path).convert(\"RGB\")\n",
    "            input_tensor = transform(image).unsqueeze(0).to(device)\n",
    "\n",
    "            with torch.no_grad():\n",
    "                outputs = model(input_tensor)\n",
    "                probabilities = F.softmax(outputs, dim=1)  # Convert logits to probabilities\n",
    "                top_class = probabilities.argmax().item()\n",
    "                top_confidence = probabilities[0, top_class].item()\n",
    "\n",
    "                predictions.append(top_class)\n",
    "                confidences.append(top_confidence)\n",
    "\n",
    "        if predictions:\n",
    "            # find the most common predicted class\n",
    "            most_common_class, most_common_count = Counter(predictions).most_common(1)[0]\n",
    "\n",
    "            # calculate the average confidence score for the most common class\n",
    "            avg_confidence = sum(c for p, c in zip(predictions, confidences) if p == most_common_class) / most_common_count\n",
    "\n",
    "            # get the top 3 predicted classes and their counts\n",
    "            top_3 = Counter(predictions).most_common(3)\n",
    "            top_3_str = \", \".join(f\"{CLASS_NAMES[cls]} ({count} frames)\" for cls, count in top_3)\n",
    "\n",
    "            print(f\"\\n{subdir.name} - Most likely bird: {CLASS_NAMES[most_common_class]} \"\n",
    "                  f\"({most_common_count} frames, Avg confidence: {avg_confidence:.2%})\")\n",
    "            print(f\"    Top 3 predictions: {top_3_str}\\n\")\n"
   ]
  }
 ],
 "metadata": {
  "kernelspec": {
   "display_name": "Python (sarah_env)",
   "language": "python",
   "name": "sarah_env"
  },
  "language_info": {
   "codemirror_mode": {
    "name": "ipython",
    "version": 3
   },
   "file_extension": ".py",
   "mimetype": "text/x-python",
   "name": "python",
   "nbconvert_exporter": "python",
   "pygments_lexer": "ipython3",
   "version": "3.10.15"
  }
 },
 "nbformat": 4,
 "nbformat_minor": 5
}
