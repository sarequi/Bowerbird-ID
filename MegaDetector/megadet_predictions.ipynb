{
 "cells": [
  {
   "cell_type": "markdown",
   "metadata": {},
   "source": [
    "MegaDetector version 5"
   ]
  },
  {
   "cell_type": "code",
   "execution_count": 1,
   "metadata": {},
   "outputs": [],
   "source": [
    "import os\n",
    "from PIL import Image\n",
    "import numpy as np\n",
    "from PytorchWildlife.models import detection as pw_detection\n",
    "from PytorchWildlife.data import transforms as pw_trans\n",
    "from PytorchWildlife import utils as pw_utils\n",
    "from tqdm import tqdm\n"
   ]
  },
  {
   "cell_type": "code",
   "execution_count": null,
   "metadata": {},
   "outputs": [
    {
     "name": "stderr",
     "output_type": "stream",
     "text": [
      "Fusing layers... \n",
      "Fusing layers... \n",
      "[W NNPACK.cpp:79] Could not initialize NNPACK! Reason: Unsupported hardware.\n",
      "Model summary: 733 layers, 140054656 parameters, 0 gradients, 208.8 GFLOPs\n",
      "Model summary: 733 layers, 140054656 parameters, 0 gradients, 208.8 GFLOPs\n",
      " 20%|██        | 2/10 [00:44<02:57, 22.17s/it]"
     ]
    }
   ],
   "source": [
    "DEVICE = \"cpu\"\n",
    "detection_model = pw_detection.MegaDetectorV5(device=DEVICE, pretrained=True, version=\"a\")\n",
    "\n",
    "input_directory = \"../Mask_RCNN/input_frames\"\n",
    "output_directory_annotated = \"output_bbox_frames\"\n",
    "output_directory_cropped = \"output_cropped_frames\"\n",
    "os.makedirs(output_directory_annotated, exist_ok=True)\n",
    "os.makedirs(output_directory_cropped, exist_ok=True)\n",
    "\n",
    "transform = pw_trans.MegaDetector_v5_Transform(\n",
    "    target_size=detection_model.IMAGE_SIZE,\n",
    "    stride=detection_model.STRIDE\n",
    ")\n",
    "\n",
    "for image_name in tqdm(os.listdir(input_directory)):\n",
    "    if image_name.endswith(\".png\"):  # format\n",
    "        input_path = os.path.join(input_directory, image_name)\n",
    "\n",
    "        try:\n",
    "            img = np.array(Image.open(input_path).convert(\"RGB\"))\n",
    "            results = detection_model.single_image_detection(transform(img), img.shape, input_path)\n",
    "\n",
    "            if results and \"detections\" in results and results[\"detections\"]:\n",
    "                annotated_temp_dir = os.path.join(output_directory_annotated, \"temp\")\n",
    "                cropped_temp_dir = os.path.join(output_directory_cropped, \"temp\")\n",
    "\n",
    "                pw_utils.save_detection_images([results], annotated_temp_dir, overwrite=True)\n",
    "                pw_utils.save_crop_images([results], cropped_temp_dir, overwrite=True)\n",
    "\n",
    "                for temp_file in os.listdir(annotated_temp_dir):\n",
    "                    temp_file_path = os.path.join(annotated_temp_dir, temp_file)\n",
    "                    output_path = os.path.join(output_directory_annotated, image_name)\n",
    "                    os.rename(temp_file_path, output_path)\n",
    "\n",
    "                for temp_file in os.listdir(cropped_temp_dir):\n",
    "                    temp_file_path = os.path.join(cropped_temp_dir, temp_file)\n",
    "                    output_path = os.path.join(output_directory_cropped, image_name)\n",
    "                    os.rename(temp_file_path, output_path)\n",
    "\n",
    "                os.rmdir(annotated_temp_dir)\n",
    "                os.rmdir(cropped_temp_dir)\n",
    "\n",
    "            else:\n",
    "                print(f\"No valid detections found for: {image_name}\")\n",
    "\n",
    "        except Exception as e:\n",
    "            print(f\"Error processing {image_name}: {e}\")\n",
    "\n",
    "print(\"Processing complete.\") "
   ]
  }
 ],
 "metadata": {
  "kernelspec": {
   "display_name": "bower_env",
   "language": "python",
   "name": "python3"
  },
  "language_info": {
   "codemirror_mode": {
    "name": "ipython",
    "version": 3
   },
   "file_extension": ".py",
   "mimetype": "text/x-python",
   "name": "python",
   "nbconvert_exporter": "python",
   "pygments_lexer": "ipython3",
   "version": "3.8.18"
  }
 },
 "nbformat": 4,
 "nbformat_minor": 2
}
