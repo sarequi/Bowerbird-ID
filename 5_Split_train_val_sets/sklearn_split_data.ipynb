{
 "cells": [
  {
   "cell_type": "markdown",
   "metadata": {},
   "source": [
    "## sklearn train/val split\n",
    "\n",
    "The following snippet splits the resulting images of each bird into training and validation sets through sklearn, for training/validating the classifier"
   ]
  },
  {
   "cell_type": "code",
   "execution_count": 2,
   "metadata": {},
   "outputs": [],
   "source": [
    "from sklearn.model_selection import train_test_split\n",
    "import os\n",
    "import shutil"
   ]
  },
  {
   "cell_type": "code",
   "execution_count": 3,
   "metadata": {},
   "outputs": [
    {
     "name": "stdout",
     "output_type": "stream",
     "text": [
      "Dataset successfully split into training and validation sets.\n"
     ]
    }
   ],
   "source": [
    "source_dir = r\"D:\\Bowerbird-ID\\4_Run_YOLOv11_det_seg\\Output_masked_frames\"\n",
    "train_dir = r\"D:\\Bowerbird-ID\\5_Split_train_val_sets\\Dataset\\Training\"\n",
    "val_dir = r\"D:\\Bowerbird-ID\\5_Split_train_val_sets\\Dataset\\Validation\"\n",
    "\n",
    "os.makedirs(train_dir, exist_ok=True)\n",
    "os.makedirs(val_dir, exist_ok=True)\n",
    "\n",
    "# Iterate through each bird ID folder\n",
    "for bird_id in os.listdir(source_dir):\n",
    "    bird_path = os.path.join(source_dir, bird_id)\n",
    "    \n",
    "    if os.path.isdir(bird_path): \n",
    "        images = os.listdir(bird_path)\n",
    "        \n",
    "        if not images:  # Skip if the folder is empty\n",
    "            print(f\"Warning: No images found for bird '{bird_id}' in {bird_path}\")\n",
    "            continue\n",
    "\n",
    "        # Split images into training and validation sets\n",
    "        train_imgs, val_imgs = train_test_split(images, test_size=0.33, random_state=42)\n",
    "\n",
    "        train_bird_dir = os.path.join(train_dir, bird_id)\n",
    "        val_bird_dir = os.path.join(val_dir, bird_id)\n",
    "        os.makedirs(train_bird_dir, exist_ok=True)\n",
    "        os.makedirs(val_bird_dir, exist_ok=True)\n",
    "\n",
    "        # Move training images\n",
    "        for img in train_imgs:\n",
    "            source_img_path = os.path.join(bird_path, img)\n",
    "            dest_train_path = os.path.join(train_bird_dir, img)\n",
    "            shutil.move(source_img_path, dest_train_path)\n",
    "\n",
    "        # Move validation images\n",
    "        for img in val_imgs:\n",
    "            source_img_path = os.path.join(bird_path, img)\n",
    "            dest_val_path = os.path.join(val_bird_dir, img)\n",
    "            shutil.move(source_img_path, dest_val_path)\n",
    "\n",
    "print(\"Dataset successfully split into training and validation sets.\")"
   ]
  },
  {
   "cell_type": "markdown",
   "metadata": {},
   "source": [
    "Class-Specific Splits: Each bird ID folder's images are split into training and validation sets independently.\n",
    "Folder Structure Preservation: Training and validation images are placed into separate folders under Training and Validation directories, maintaining the bird ID folder structure.\n",
    "Copy Instead of Move: Images are copied using shutil.copy2 to ensure the original images remain untouched."
   ]
  },
  {
   "cell_type": "code",
   "execution_count": 4,
   "metadata": {},
   "outputs": [
    {
     "name": "stdout",
     "output_type": "stream",
     "text": [
      "Dataset successfully split into training and validation sets.\n"
     ]
    }
   ],
   "source": [
    "import os\n",
    "from sklearn.model_selection import train_test_split\n",
    "import shutil\n",
    "\n",
    "source_dir = r\"D:\\Bowerbird-ID\\4_Run_YOLOv11_det_seg\\Output_masked_frames\"\n",
    "train_dir = r\"D:\\Bowerbird-ID\\5_Split_train_val_sets\\Dataset\\Training\"\n",
    "val_dir = r\"D:\\Bowerbird-ID\\5_Split_train_val_sets\\Dataset\\Validation\"\n",
    "\n",
    "os.makedirs(train_dir, exist_ok=True)\n",
    "os.makedirs(val_dir, exist_ok=True)\n",
    "\n",
    "# Iterate through each bird ID folder\n",
    "for bird_id in os.listdir(source_dir):\n",
    "    bird_path = os.path.join(source_dir, bird_id)\n",
    "    \n",
    "    if os.path.isdir(bird_path): \n",
    "        images = os.listdir(bird_path)\n",
    "        \n",
    "        if not images:  # Skip if the folder is empty\n",
    "            print(f\"Warning: No images found for bird '{bird_id}' in {bird_path}\")\n",
    "            continue\n",
    "\n",
    "        # Split images into training and validation sets\n",
    "        train_imgs, val_imgs = train_test_split(images, test_size=0.3, random_state=42)\n",
    "\n",
    "        train_bird_dir = os.path.join(train_dir, bird_id)\n",
    "        val_bird_dir = os.path.join(val_dir, bird_id)\n",
    "        os.makedirs(train_bird_dir, exist_ok=True)\n",
    "        os.makedirs(val_bird_dir, exist_ok=True)\n",
    "\n",
    "        # Copy training images\n",
    "        for img in train_imgs:\n",
    "            source_img_path = os.path.join(bird_path, img)\n",
    "            dest_train_path = os.path.join(train_bird_dir, img)\n",
    "            shutil.copy2(source_img_path, dest_train_path)\n",
    "\n",
    "        # Copy validation images\n",
    "        for img in val_imgs:\n",
    "            source_img_path = os.path.join(bird_path, img)\n",
    "            dest_val_path = os.path.join(val_bird_dir, img)\n",
    "            shutil.copy2(source_img_path, dest_val_path)\n",
    "\n",
    "print(\"Dataset successfully split into training and validation sets.\")\n"
   ]
  }
 ],
 "metadata": {
  "kernelspec": {
   "display_name": "bowerbird",
   "language": "python",
   "name": "python3"
  },
  "language_info": {
   "codemirror_mode": {
    "name": "ipython",
    "version": 3
   },
   "file_extension": ".py",
   "mimetype": "text/x-python",
   "name": "python",
   "nbconvert_exporter": "python",
   "pygments_lexer": "ipython3",
   "version": "3.10.15"
  }
 },
 "nbformat": 4,
 "nbformat_minor": 2
}
